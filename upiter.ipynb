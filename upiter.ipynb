{
 "cells": [
  {
   "cell_type": "code",
   "execution_count": 12,
   "id": "initial_id",
   "metadata": {
    "collapsed": true,
    "ExecuteTime": {
     "end_time": "2024-11-30T15:06:00.335682Z",
     "start_time": "2024-11-30T15:05:58.559499Z"
    }
   },
   "outputs": [
    {
     "data": {
      "text/plain": "       age       body_type               diet      drinks      drugs  \\\n0       22  a little extra  strictly anything    socially      never   \n1       35         average       mostly other       often  sometimes   \n2       38            thin           anything    socially        NaN   \n3       23            thin         vegetarian    socially        NaN   \n4       29        athletic                NaN    socially      never   \n...    ...             ...                ...         ...        ...   \n59941   59             NaN                NaN    socially      never   \n59942   24             fit    mostly anything       often  sometimes   \n59943   42         average    mostly anything  not at all      never   \n59944   27        athletic    mostly anything    socially      often   \n59945   39         average                NaN    socially        NaN   \n\n                               education  \\\n0          working on college/university   \n1                  working on space camp   \n2         graduated from masters program   \n3          working on college/university   \n4      graduated from college/university   \n...                                  ...   \n59941  graduated from college/university   \n59942      working on college/university   \n59943     graduated from masters program   \n59944      working on college/university   \n59945     graduated from masters program   \n\n                                                  essay0  \\\n0      about me:<br />\\n<br />\\ni would love to think...   \n1      i am a chef: this is what that means.<br />\\n1...   \n2      i'm not ashamed of much, but writing public te...   \n3              i work in a library and go to school. . .   \n4      hey how's it going? currently vague on the pro...   \n...                                                  ...   \n59941  vibrant, expressive, caring optimist. i love b...   \n59942  i'm nick.<br />\\ni never know what to write ab...   \n59943  hello! i enjoy traveling, watching movies, and...   \n59944  \"all i have in this world are my balls and my ...   \n59945  is it odd that having a little \"enemy\" status ...   \n\n                                                  essay1  \\\n0      currently working as an international agent fo...   \n1      dedicating everyday to being an unbelievable b...   \n2      i make nerdy software for musicians, artists, ...   \n3              reading things written by old dead people   \n4                             work work work work + play   \n...                                                  ...   \n59941  the happiest times have been when life came to...   \n59942  currently finishing school for film production...   \n59943  i'm a civil engineer, who enjoys helping the c...   \n59944  following my dreams...<br />\\n\"you got a dream...   \n59945  i work with elderly people (psychotherapy and ...   \n\n                                                  essay2  \\\n0      making people laugh.<br />\\nranting about a go...   \n1      being silly. having ridiculous amonts of fun w...   \n2      improvising in different contexts. alternating...   \n3      playing synthesizers and organizing books acco...   \n4      creating imagery to look at:<br />\\nhttp://bag...   \n...                                                  ...   \n59941  i make an outstanding osso bucco. i am also ve...   \n59942  <a class=\"ilink\" href=\"/interests?i=filmmaking...   \n59943  - looking at things objectively<br />\\n- getti...   \n59944                                          listening   \n59945  i'm a great bullshitter. i don't know what it ...   \n\n                                                  essay3  ...  \\\n0      the way i look. i am a six foot half asian, ha...  ...   \n1                                                    NaN  ...   \n2      my large jaw and large glasses are the physica...  ...   \n3                      socially awkward but i do my best  ...   \n4                i smile a lot and my inquisitive nature  ...   \n...                                                  ...  ...   \n59941  i am told that people notice my smile, eyes an...  ...   \n59942                                dude, i don't know.  ...   \n59943  i'm quiet until i get used to the environment ...  ...   \n59944  it used to be the hair until i mowed it off bu...  ...   \n59945  either that i am funny/sarcastic, or that i am...  ...   \n\n                              location  \\\n0      south san francisco, california   \n1                  oakland, california   \n2            san francisco, california   \n3                 berkeley, california   \n4            san francisco, california   \n...                                ...   \n59941              oakland, california   \n59942        san francisco, california   \n59943  south san francisco, california   \n59944        san francisco, california   \n59945        san francisco, california   \n\n                                          offspring orientation  \\\n0      doesn&rsquo;t have kids, but might want them    straight   \n1      doesn&rsquo;t have kids, but might want them    straight   \n2                                               NaN    straight   \n3                           doesn&rsquo;t want kids    straight   \n4                                               NaN    straight   \n...                                             ...         ...   \n59941                                      has kids    straight   \n59942                       doesn&rsquo;t have kids    straight   \n59943                       doesn&rsquo;t have kids    straight   \n59944       doesn&rsquo;t have kids, but wants them    straight   \n59945                                           NaN         gay   \n\n                            pets                                   religion  \\\n0      likes dogs and likes cats      agnosticism and very serious about it   \n1      likes dogs and likes cats   agnosticism but not too serious about it   \n2                       has cats                                        NaN   \n3                     likes cats                                        NaN   \n4      likes dogs and likes cats                                        NaN   \n...                          ...                                        ...   \n59941                   has dogs   catholicism but not too serious about it   \n59942  likes dogs and likes cats                                agnosticism   \n59943                        NaN  christianity but not too serious about it   \n59944  likes dogs and likes cats   agnosticism but not too serious about it   \n59945  likes dogs and likes cats          catholicism and laughing about it   \n\n      sex                                      sign          smokes  \\\n0       m                                    gemini       sometimes   \n1       m                                    cancer              no   \n2       m        pisces but it doesn&rsquo;t matter              no   \n3       m                                    pisces              no   \n4       m                                  aquarius              no   \n...    ..                                       ...             ...   \n59941   f  cancer and it&rsquo;s fun to think about              no   \n59942   m           leo but it doesn&rsquo;t matter              no   \n59943   m   sagittarius but it doesn&rsquo;t matter              no   \n59944   m     leo and it&rsquo;s fun to think about  trying to quit   \n59945   m  gemini and it&rsquo;s fun to think about       sometimes   \n\n                                                  speaks     status  \n0                                                english     single  \n1      english (fluently), spanish (poorly), french (...     single  \n2                                   english, french, c++  available  \n3                               english, german (poorly)     single  \n4                                                english     single  \n...                                                  ...        ...  \n59941                                            english     single  \n59942                                 english (fluently)     single  \n59943                                 english (fluently)     single  \n59944  english (fluently), spanish (poorly), chinese ...     single  \n59945                                            english     single  \n\n[59946 rows x 31 columns]",
      "text/html": "<div>\n<style scoped>\n    .dataframe tbody tr th:only-of-type {\n        vertical-align: middle;\n    }\n\n    .dataframe tbody tr th {\n        vertical-align: top;\n    }\n\n    .dataframe thead th {\n        text-align: right;\n    }\n</style>\n<table border=\"1\" class=\"dataframe\">\n  <thead>\n    <tr style=\"text-align: right;\">\n      <th></th>\n      <th>age</th>\n      <th>body_type</th>\n      <th>diet</th>\n      <th>drinks</th>\n      <th>drugs</th>\n      <th>education</th>\n      <th>essay0</th>\n      <th>essay1</th>\n      <th>essay2</th>\n      <th>essay3</th>\n      <th>...</th>\n      <th>location</th>\n      <th>offspring</th>\n      <th>orientation</th>\n      <th>pets</th>\n      <th>religion</th>\n      <th>sex</th>\n      <th>sign</th>\n      <th>smokes</th>\n      <th>speaks</th>\n      <th>status</th>\n    </tr>\n  </thead>\n  <tbody>\n    <tr>\n      <th>0</th>\n      <td>22</td>\n      <td>a little extra</td>\n      <td>strictly anything</td>\n      <td>socially</td>\n      <td>never</td>\n      <td>working on college/university</td>\n      <td>about me:&lt;br /&gt;\\n&lt;br /&gt;\\ni would love to think...</td>\n      <td>currently working as an international agent fo...</td>\n      <td>making people laugh.&lt;br /&gt;\\nranting about a go...</td>\n      <td>the way i look. i am a six foot half asian, ha...</td>\n      <td>...</td>\n      <td>south san francisco, california</td>\n      <td>doesn&amp;rsquo;t have kids, but might want them</td>\n      <td>straight</td>\n      <td>likes dogs and likes cats</td>\n      <td>agnosticism and very serious about it</td>\n      <td>m</td>\n      <td>gemini</td>\n      <td>sometimes</td>\n      <td>english</td>\n      <td>single</td>\n    </tr>\n    <tr>\n      <th>1</th>\n      <td>35</td>\n      <td>average</td>\n      <td>mostly other</td>\n      <td>often</td>\n      <td>sometimes</td>\n      <td>working on space camp</td>\n      <td>i am a chef: this is what that means.&lt;br /&gt;\\n1...</td>\n      <td>dedicating everyday to being an unbelievable b...</td>\n      <td>being silly. having ridiculous amonts of fun w...</td>\n      <td>NaN</td>\n      <td>...</td>\n      <td>oakland, california</td>\n      <td>doesn&amp;rsquo;t have kids, but might want them</td>\n      <td>straight</td>\n      <td>likes dogs and likes cats</td>\n      <td>agnosticism but not too serious about it</td>\n      <td>m</td>\n      <td>cancer</td>\n      <td>no</td>\n      <td>english (fluently), spanish (poorly), french (...</td>\n      <td>single</td>\n    </tr>\n    <tr>\n      <th>2</th>\n      <td>38</td>\n      <td>thin</td>\n      <td>anything</td>\n      <td>socially</td>\n      <td>NaN</td>\n      <td>graduated from masters program</td>\n      <td>i'm not ashamed of much, but writing public te...</td>\n      <td>i make nerdy software for musicians, artists, ...</td>\n      <td>improvising in different contexts. alternating...</td>\n      <td>my large jaw and large glasses are the physica...</td>\n      <td>...</td>\n      <td>san francisco, california</td>\n      <td>NaN</td>\n      <td>straight</td>\n      <td>has cats</td>\n      <td>NaN</td>\n      <td>m</td>\n      <td>pisces but it doesn&amp;rsquo;t matter</td>\n      <td>no</td>\n      <td>english, french, c++</td>\n      <td>available</td>\n    </tr>\n    <tr>\n      <th>3</th>\n      <td>23</td>\n      <td>thin</td>\n      <td>vegetarian</td>\n      <td>socially</td>\n      <td>NaN</td>\n      <td>working on college/university</td>\n      <td>i work in a library and go to school. . .</td>\n      <td>reading things written by old dead people</td>\n      <td>playing synthesizers and organizing books acco...</td>\n      <td>socially awkward but i do my best</td>\n      <td>...</td>\n      <td>berkeley, california</td>\n      <td>doesn&amp;rsquo;t want kids</td>\n      <td>straight</td>\n      <td>likes cats</td>\n      <td>NaN</td>\n      <td>m</td>\n      <td>pisces</td>\n      <td>no</td>\n      <td>english, german (poorly)</td>\n      <td>single</td>\n    </tr>\n    <tr>\n      <th>4</th>\n      <td>29</td>\n      <td>athletic</td>\n      <td>NaN</td>\n      <td>socially</td>\n      <td>never</td>\n      <td>graduated from college/university</td>\n      <td>hey how's it going? currently vague on the pro...</td>\n      <td>work work work work + play</td>\n      <td>creating imagery to look at:&lt;br /&gt;\\nhttp://bag...</td>\n      <td>i smile a lot and my inquisitive nature</td>\n      <td>...</td>\n      <td>san francisco, california</td>\n      <td>NaN</td>\n      <td>straight</td>\n      <td>likes dogs and likes cats</td>\n      <td>NaN</td>\n      <td>m</td>\n      <td>aquarius</td>\n      <td>no</td>\n      <td>english</td>\n      <td>single</td>\n    </tr>\n    <tr>\n      <th>...</th>\n      <td>...</td>\n      <td>...</td>\n      <td>...</td>\n      <td>...</td>\n      <td>...</td>\n      <td>...</td>\n      <td>...</td>\n      <td>...</td>\n      <td>...</td>\n      <td>...</td>\n      <td>...</td>\n      <td>...</td>\n      <td>...</td>\n      <td>...</td>\n      <td>...</td>\n      <td>...</td>\n      <td>...</td>\n      <td>...</td>\n      <td>...</td>\n      <td>...</td>\n      <td>...</td>\n    </tr>\n    <tr>\n      <th>59941</th>\n      <td>59</td>\n      <td>NaN</td>\n      <td>NaN</td>\n      <td>socially</td>\n      <td>never</td>\n      <td>graduated from college/university</td>\n      <td>vibrant, expressive, caring optimist. i love b...</td>\n      <td>the happiest times have been when life came to...</td>\n      <td>i make an outstanding osso bucco. i am also ve...</td>\n      <td>i am told that people notice my smile, eyes an...</td>\n      <td>...</td>\n      <td>oakland, california</td>\n      <td>has kids</td>\n      <td>straight</td>\n      <td>has dogs</td>\n      <td>catholicism but not too serious about it</td>\n      <td>f</td>\n      <td>cancer and it&amp;rsquo;s fun to think about</td>\n      <td>no</td>\n      <td>english</td>\n      <td>single</td>\n    </tr>\n    <tr>\n      <th>59942</th>\n      <td>24</td>\n      <td>fit</td>\n      <td>mostly anything</td>\n      <td>often</td>\n      <td>sometimes</td>\n      <td>working on college/university</td>\n      <td>i'm nick.&lt;br /&gt;\\ni never know what to write ab...</td>\n      <td>currently finishing school for film production...</td>\n      <td>&lt;a class=\"ilink\" href=\"/interests?i=filmmaking...</td>\n      <td>dude, i don't know.</td>\n      <td>...</td>\n      <td>san francisco, california</td>\n      <td>doesn&amp;rsquo;t have kids</td>\n      <td>straight</td>\n      <td>likes dogs and likes cats</td>\n      <td>agnosticism</td>\n      <td>m</td>\n      <td>leo but it doesn&amp;rsquo;t matter</td>\n      <td>no</td>\n      <td>english (fluently)</td>\n      <td>single</td>\n    </tr>\n    <tr>\n      <th>59943</th>\n      <td>42</td>\n      <td>average</td>\n      <td>mostly anything</td>\n      <td>not at all</td>\n      <td>never</td>\n      <td>graduated from masters program</td>\n      <td>hello! i enjoy traveling, watching movies, and...</td>\n      <td>i'm a civil engineer, who enjoys helping the c...</td>\n      <td>- looking at things objectively&lt;br /&gt;\\n- getti...</td>\n      <td>i'm quiet until i get used to the environment ...</td>\n      <td>...</td>\n      <td>south san francisco, california</td>\n      <td>doesn&amp;rsquo;t have kids</td>\n      <td>straight</td>\n      <td>NaN</td>\n      <td>christianity but not too serious about it</td>\n      <td>m</td>\n      <td>sagittarius but it doesn&amp;rsquo;t matter</td>\n      <td>no</td>\n      <td>english (fluently)</td>\n      <td>single</td>\n    </tr>\n    <tr>\n      <th>59944</th>\n      <td>27</td>\n      <td>athletic</td>\n      <td>mostly anything</td>\n      <td>socially</td>\n      <td>often</td>\n      <td>working on college/university</td>\n      <td>\"all i have in this world are my balls and my ...</td>\n      <td>following my dreams...&lt;br /&gt;\\n\"you got a dream...</td>\n      <td>listening</td>\n      <td>it used to be the hair until i mowed it off bu...</td>\n      <td>...</td>\n      <td>san francisco, california</td>\n      <td>doesn&amp;rsquo;t have kids, but wants them</td>\n      <td>straight</td>\n      <td>likes dogs and likes cats</td>\n      <td>agnosticism but not too serious about it</td>\n      <td>m</td>\n      <td>leo and it&amp;rsquo;s fun to think about</td>\n      <td>trying to quit</td>\n      <td>english (fluently), spanish (poorly), chinese ...</td>\n      <td>single</td>\n    </tr>\n    <tr>\n      <th>59945</th>\n      <td>39</td>\n      <td>average</td>\n      <td>NaN</td>\n      <td>socially</td>\n      <td>NaN</td>\n      <td>graduated from masters program</td>\n      <td>is it odd that having a little \"enemy\" status ...</td>\n      <td>i work with elderly people (psychotherapy and ...</td>\n      <td>i'm a great bullshitter. i don't know what it ...</td>\n      <td>either that i am funny/sarcastic, or that i am...</td>\n      <td>...</td>\n      <td>san francisco, california</td>\n      <td>NaN</td>\n      <td>gay</td>\n      <td>likes dogs and likes cats</td>\n      <td>catholicism and laughing about it</td>\n      <td>m</td>\n      <td>gemini and it&amp;rsquo;s fun to think about</td>\n      <td>sometimes</td>\n      <td>english</td>\n      <td>single</td>\n    </tr>\n  </tbody>\n</table>\n<p>59946 rows × 31 columns</p>\n</div>"
     },
     "execution_count": 12,
     "metadata": {},
     "output_type": "execute_result"
    }
   ],
   "source": [
    "import pandas as pd\n",
    "import numpy as np\n",
    "\n",
    "# Загрузка датасета\n",
    "df = pd.read_csv(\"/Users/kidawr/Desktop/Сириус/Высокоуровневые языки/concordia-ml/profiles.csv\")\n",
    "df"
   ]
  },
  {
   "cell_type": "code",
   "execution_count": 13,
   "outputs": [
    {
     "name": "stdout",
     "output_type": "stream",
     "text": [
      "likes_pets    33011\n",
      "unknown       19921\n",
      "has_pets       7014\n",
      "Name: pets, dtype: int64\n",
      "   age   body_type        diet  drinks education  height        pets sex  \\\n",
      "0   22  overweight     regular  rarely   student    75.0  likes_pets   m   \n",
      "1   35     average     regular   often   student    70.0  likes_pets   m   \n",
      "2   38        slim     regular  rarely  graduate    68.0    has_pets   m   \n",
      "3   23        slim  vegetarian  rarely   student    71.0  likes_pets   m   \n",
      "4   29         fit     regular  rarely  graduate    66.0  likes_pets   m   \n",
      "\n",
      "   smokes  \n",
      "0  smokes  \n",
      "1      no  \n",
      "2      no  \n",
      "3      no  \n",
      "4      no  \n"
     ]
    }
   ],
   "source": [
    "\n",
    "# --- Преобразование столбцов ---\n",
    "\n",
    "# 1. Столбец 'age': преобразуем в тип float\n",
    "df['age'] = pd.to_numeric(df['age'], errors='coerce')\n",
    "\n",
    "# 2. Столбец 'body_type': упрощаем категории\n",
    "body_type_map = {\n",
    "    'a little extra': 'overweight', 'average': 'average', 'thin': 'slim',\n",
    "    'athletic': 'fit', 'fit': 'fit', 'skinny': 'slim', 'curvy': 'overweight',\n",
    "    'full figured': 'overweight', 'jacked': 'fit', 'rather not say': 'average',\n",
    "    'used up': 'overweight', 'overweight': 'overweight'\n",
    "}\n",
    "df['body_type'] = df['body_type'].map(body_type_map)\n",
    "\n",
    "# 3. Столбец 'diet': оставляем основные категории\n",
    "diet_map = {\n",
    "    'strictly anything': 'regular', 'mostly other': 'regular', 'anything': 'regular',\n",
    "    'vegetarian': 'vegetarian', 'mostly vegetarian': 'vegetarian',\n",
    "    'strictly vegetarian': 'vegetarian', 'vegan': 'vegan',\n",
    "    'mostly vegan': 'vegan', 'strictly vegan': 'vegan',\n",
    "    'halal': 'halal', 'strictly halal': 'halal', 'mostly halal': 'halal',\n",
    "    'kosher': 'kosher', 'strictly kosher': 'kosher', 'mostly kosher': 'kosher'\n",
    "}\n",
    "df['diet'] = df['diet'].map(diet_map).fillna('regular')\n",
    "\n",
    "# 4. Столбец 'drinks': упрощаем категории\n",
    "drinks_map = {\n",
    "    'socially': 'rarely', 'often': 'often', 'not at all': 'no',\n",
    "    'rarely': 'rarely', 'very often': 'often', 'desperately': 'often'\n",
    "}\n",
    "df['drinks'] = df['drinks'].map(drinks_map)\n",
    "\n",
    "# 5. Столбец 'drugs': удаляем\n",
    "df.drop(columns=['drugs'], inplace=True)\n",
    "#    Столбецs 'essay': удаляем\n",
    "df.drop(columns=['essay0'], inplace=True)\n",
    "df.drop(columns=['essay1'], inplace=True)\n",
    "df.drop(columns=['essay2'], inplace=True)\n",
    "df.drop(columns=['essay3'], inplace=True)\n",
    "df.drop(columns=['essay4'], inplace=True)\n",
    "df.drop(columns=['essay5'], inplace=True)\n",
    "df.drop(columns=['essay6'], inplace=True)\n",
    "df.drop(columns=['essay7'], inplace=True)\n",
    "df.drop(columns=['essay8'], inplace=True)\n",
    "df.drop(columns=['essay9'], inplace=True)\n",
    "df.drop(columns=['income'], inplace=True)\n",
    "df.drop(columns=['job'], inplace=True)\n",
    "df.drop(columns=['last_online'], inplace=True)\n",
    "df.drop(columns=['offspring'], inplace=True)\n",
    "df.drop(columns=['orientation'], inplace=True)\n",
    "df.drop(columns=['religion'], inplace=True)\n",
    "df.drop(columns=['status'], inplace=True)\n",
    "df.drop(columns=['speaks'], inplace=True)\n",
    "df.drop(columns=['sign'], inplace=True)\n",
    "df.drop(columns=['ethnicity'], inplace=True)\n",
    "df.drop(columns=['location'], inplace=True)\n",
    "\n",
    "\n",
    "# 6. Столбец 'education': упрощаем категории\n",
    "education_map = {\n",
    "    'working on college/university': 'student', 'working on space camp': 'student',\n",
    "    'graduated from masters program': 'graduate', 'graduated from college/university': 'graduate',\n",
    "    'working on two-year college': 'student', 'graduated from high school': 'high_school',\n",
    "    'working on masters program': 'student', 'graduated from space camp': 'graduate',\n",
    "    'college/university': 'student', 'graduated from ph.d program': 'graduate',\n",
    "    'graduated from law school': 'graduate', 'working on ph.d program': 'student',\n",
    "    'two-year college': 'student', 'graduated from two-year college': 'graduate',\n",
    "    'working on med school': 'student', 'space camp': 'student',\n",
    "    'graduated from med school': 'graduate', 'working on high school': 'high_school',\n",
    "    'masters program': 'graduate', 'high school': 'high_school',\n",
    "    'law school': 'graduate', 'ph.d program': 'graduate', 'med school': 'graduate'\n",
    "}\n",
    "df['education'] = df['education'].map(education_map).fillna('other')\n",
    "\n",
    "# 7. Столбец 'height': преобразуем в float\n",
    "df['height'] = pd.to_numeric(df['height'], errors='coerce')\n",
    "\n",
    "# Преобразование столбца 'pets'\n",
    "def simplify_pets(value):\n",
    "    if pd.isna(value):\n",
    "        return 'unknown'\n",
    "    elif 'likes' in value:\n",
    "        return 'likes_pets'\n",
    "    elif 'has' in value:\n",
    "        return 'has_pets'\n",
    "    elif 'dislikes' in value:\n",
    "        return 'dislikes_pets'\n",
    "    else:\n",
    "        return 'unknown'\n",
    "\n",
    "df['pets'] = df['pets'].apply(simplify_pets)\n",
    "\n",
    "# Проверяем результат\n",
    "print(df['pets'].value_counts())\n",
    "\n",
    "# 8. Столбец 'smokes': упрощаем категории\n",
    "smokes_map = {\n",
    "    'sometimes': 'smokes',\n",
    "    'no': 'no', \n",
    "    'when drinking': 'smokes', \n",
    "    'yes': 'smokes', \n",
    "    'trying to quit': 'smokes'\n",
    "}\n",
    "df['smokes'] = df['smokes'].map(smokes_map).fillna('no')\n",
    "\n",
    "# --- Проверка результата ---\n",
    "print(df.head())\n",
    "\n",
    "# --- Сохранение обработанных данных ---\n",
    "df.to_csv(\"processed_file.csv\", index=False)\n"
   ],
   "metadata": {
    "collapsed": false,
    "ExecuteTime": {
     "end_time": "2024-11-30T15:06:00.877740Z",
     "start_time": "2024-11-30T15:06:00.346533Z"
    }
   },
   "id": "21857a04afc3599d"
  },
  {
   "cell_type": "code",
   "execution_count": 1,
   "outputs": [
    {
     "name": "stdout",
     "output_type": "stream",
     "text": [
      "Столбец 'age' имеет 54 уникальных значений:\n",
      "[ 22  35  38  23  29  32  31  24  37  28  30  39  33  26  27  20  25  40\n",
      "  36  21  34  43  46  41  42  45  18  55  50  59  44  48  54  51  62  52\n",
      "  19  58  66  53  63  47  49  61  60  57  56  65  64  68 110  69  67 109]\n",
      "--------------------------------------------------\n",
      "Столбец 'body_type' имеет 5 уникальных значений:\n",
      "['overweight' 'average' 'slim' 'fit' nan]\n",
      "--------------------------------------------------\n",
      "Столбец 'diet' имеет 5 уникальных значений:\n",
      "['regular' 'vegetarian' 'vegan' 'halal' 'kosher']\n",
      "--------------------------------------------------\n",
      "Столбец 'drinks' имеет 4 уникальных значений:\n",
      "['rarely' 'often' 'no' nan]\n",
      "--------------------------------------------------\n",
      "Столбец 'education' имеет 4 уникальных значений:\n",
      "['student' 'graduate' 'other' 'high_school']\n",
      "--------------------------------------------------\n",
      "Столбец 'height' имеет 61 уникальных значений:\n",
      "[75. 70. 68. 71. 66. 67. 65. 72. 62. 64. 69. 73. 74. 60. 63. 76. 61. 78.\n",
      " 79. 59. 80. 91. 83. 77. 58. 56. 95. 57. 87. 81. 36. 43. 52. 55. 53. 93.\n",
      "  8. 54. 82.  3. 86. 42. 84. 94. 50.  6. 47. 49. 48. 90. 88. nan 37.  9.\n",
      " 51.  1. 92. 26. 85. 89.  4.]\n",
      "--------------------------------------------------\n",
      "Столбец 'pets' имеет 3 уникальных значений:\n",
      "['likes_pets' 'has_pets' 'unknown']\n",
      "--------------------------------------------------\n",
      "Столбец 'sex' имеет 2 уникальных значений:\n",
      "['m' 'f']\n",
      "--------------------------------------------------\n",
      "Столбец 'smokes' имеет 2 уникальных значений:\n",
      "['smokes' 'no']\n",
      "--------------------------------------------------\n"
     ]
    }
   ],
   "source": [
    "\n",
    "import pandas as pd\n",
    "\n",
    "# Загружаем датасет\n",
    "df = pd.read_csv(\"/Users/kidawr/Desktop/Сириус/Высокоуровневые языки/concordia-ml/dataset.csv\")\n",
    "\n",
    "# Получаем уникальные значения для каждого столбца\n",
    "for column in df.columns:\n",
    "    unique_values = df[column].unique()\n",
    "    print(f\"Столбец '{column}' имеет {len(unique_values)} уникальных значений:\")\n",
    "    print(unique_values)\n",
    "    print(\"-\" * 50)\n"
   ],
   "metadata": {
    "collapsed": false,
    "ExecuteTime": {
     "end_time": "2024-12-01T08:28:07.660483Z",
     "start_time": "2024-12-01T08:27:58.295553Z"
    }
   },
   "id": "fad944793c7dfd7d"
  },
  {
   "cell_type": "code",
   "execution_count": null,
   "outputs": [],
   "source": [],
   "metadata": {
    "collapsed": false
   },
   "id": "c35a10cabad08674"
  }
 ],
 "metadata": {
  "kernelspec": {
   "display_name": "Python 3",
   "language": "python",
   "name": "python3"
  },
  "language_info": {
   "codemirror_mode": {
    "name": "ipython",
    "version": 2
   },
   "file_extension": ".py",
   "mimetype": "text/x-python",
   "name": "python",
   "nbconvert_exporter": "python",
   "pygments_lexer": "ipython2",
   "version": "2.7.6"
  }
 },
 "nbformat": 4,
 "nbformat_minor": 5
}
