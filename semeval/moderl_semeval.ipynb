{
 "cells": [
  {
   "cell_type": "code",
   "execution_count": 6,
   "metadata": {
    "id": "OUYuXHQ1yqPl",
    "executionInfo": {
     "status": "ok",
     "timestamp": 1685797145401,
     "user_tz": -180,
     "elapsed": 881,
     "user": {
      "displayName": "Вадим Сергеев",
      "userId": "14848806904654254166"
     }
    },
    "ExecuteTime": {
     "end_time": "2024-12-01T11:32:44.129420Z",
     "start_time": "2024-12-01T11:32:44.120591Z"
    }
   },
   "outputs": [],
   "source": [
    "import numpy as np # linear algebra\n",
    "import pandas as pd # data processing, CSV file I/O (e.g. pd.read_csv)"
   ]
  },
  {
   "cell_type": "code",
   "execution_count": 7,
   "metadata": {
    "executionInfo": {
     "elapsed": 9005,
     "status": "ok",
     "timestamp": 1685797154404,
     "user": {
      "displayName": "Вадим Сергеев",
      "userId": "14848806904654254166"
     },
     "user_tz": -180
    },
    "id": "quMiRbfCyqP7",
    "colab": {
     "base_uri": "https://localhost:8080/"
    },
    "outputId": "f62686bd-cbed-4db5-f36b-9372f46cfb77",
    "ExecuteTime": {
     "end_time": "2024-12-01T11:32:46.513666Z",
     "start_time": "2024-12-01T11:32:44.481163Z"
    }
   },
   "outputs": [
    {
     "name": "stdout",
     "output_type": "stream",
     "text": [
      "Requirement already satisfied: plotly in /Users/kidawr/opt/anaconda3/lib/python3.9/site-packages (5.9.0)\r\n",
      "Requirement already satisfied: tenacity>=6.2.0 in /Users/kidawr/opt/anaconda3/lib/python3.9/site-packages (from plotly) (8.0.1)\r\n"
     ]
    }
   ],
   "source": [
    "!pip install plotly\n",
    "import plotly.graph_objects as go\n",
    "def paint(train_losses, train_r2_scores, test_losses, test_r2_scores):\n",
    "  # Plot training loss\n",
    "  loss_fig = go.Figure()\n",
    "  loss_fig.add_trace(go.Scatter(x=list(range(1, num_epochs + 1)), y=train_losses, mode='lines', name='Training Loss'))\n",
    "  loss_fig.update_layout(title='Training Loss over Epochs', xaxis_title='Epoch', yaxis_title='Loss')\n",
    "\n",
    "\n",
    "  # Plot training R2 score\n",
    "  r2_fig = go.Figure()\n",
    "  r2_fig.add_trace(go.Scatter(x=list(range(1, num_epochs + 1)), y=train_r2_scores, mode='lines', name='Training R2 Score'))\n",
    "  r2_fig.update_layout(title='Training R2 Score over Epochs', xaxis_title='Epoch', yaxis_title='R2 Score')\n",
    "  loss_fig.show()\n",
    "  r2_fig.show()\n",
    "  # Plot training loss\n",
    "  loss_fig = go.Figure()\n",
    "  loss_fig.add_trace(go.Scatter(x=list(range(1, num_epochs + 1)), y=test_losses, mode='lines', name='Test Loss'))\n",
    "  loss_fig.update_layout(title='Test Loss over Epochs', xaxis_title='Epoch', yaxis_title='Loss')\n",
    "\n",
    "\n",
    "  # Plot training R2 score\n",
    "  r2_fig = go.Figure()\n",
    "  r2_fig.add_trace(go.Scatter(x=list(range(1, num_epochs + 1)), y=test_r2_scores, mode='lines', name='Test R2 Score'))\n",
    "  r2_fig.update_layout(title='Test R2 Score over Epochs', xaxis_title='Epoch', yaxis_title='R2 Score')\n",
    "  loss_fig.show()\n",
    "  r2_fig.show()\n"
   ]
  },
  {
   "cell_type": "code",
   "execution_count": 9,
   "metadata": {
    "colab": {
     "base_uri": "https://localhost:8080/"
    },
    "executionInfo": {
     "elapsed": 56960,
     "status": "ok",
     "timestamp": 1685797211349,
     "user": {
      "displayName": "Вадим Сергеев",
      "userId": "14848806904654254166"
     },
     "user_tz": -180
    },
    "id": "11zZ1gGSyqPs",
    "outputId": "d52e6f78-12b5-4293-ecd8-3facc17c53d4",
    "ExecuteTime": {
     "end_time": "2024-12-01T11:33:42.096729Z",
     "start_time": "2024-12-01T11:33:42.020340Z"
    }
   },
   "outputs": [],
   "source": [
    "#from google.colab import drive\n",
    "#drive.mount('/content/drive')\n",
    "anger_train = pd.read_csv('/Users/kidawr/Desktop/Сириус/Высокоуровневые языки/concordia-ml/semeval/EI/train/anger-train.csv')\n",
    "anger_test = pd.read_csv('/Users/kidawr/Desktop/Сириус/Высокоуровневые языки/concordia-ml/semeval/EI/test/anger-test.csv')\n",
    "\n",
    "fear_train = pd.read_csv('/Users/kidawr/Desktop/Сириус/Высокоуровневые языки/concordia-ml/semeval/EI/train/fear-train.csv')\n",
    "fear_test = pd.read_csv('/Users/kidawr/Desktop/Сириус/Высокоуровневые языки/concordia-ml/semeval/EI/test/fear-test.csv')\n",
    "\n",
    "joy_train = pd.read_csv('/Users/kidawr/Desktop/Сириус/Высокоуровневые языки/concordia-ml/semeval/EI/train/joy-train.csv')\n",
    "joy_test = pd.read_csv('/Users/kidawr/Desktop/Сириус/Высокоуровневые языки/concordia-ml/semeval/EI/test/joy-test.csv')\n",
    "\n",
    "sadness_train = pd.read_csv('/Users/kidawr/Desktop/Сириус/Высокоуровневые языки/concordia-ml/semeval/EI/train/sadness-train.csv')\n",
    "sadness_test = pd.read_csv('/Users/kidawr/Desktop/Сириус/Высокоуровневые языки/concordia-ml/semeval/EI/test/sadness-test.csv')\n",
    "\n",
    "V_train = pd.read_csv('/Users/kidawr/Desktop/Сириус/Высокоуровневые языки/concordia-ml/semeval/V/Valence-train.csv')\n",
    "V_test = pd.read_csv('/Users/kidawr/Desktop/Сириус/Высокоуровневые языки/concordia-ml/semeval/V/Valence-test.csv')"
   ]
  },
  {
   "cell_type": "code",
   "execution_count": 10,
   "metadata": {
    "colab": {
     "base_uri": "https://localhost:8080/",
     "height": 206
    },
    "executionInfo": {
     "elapsed": 33,
     "status": "ok",
     "timestamp": 1685797211350,
     "user": {
      "displayName": "Вадим Сергеев",
      "userId": "14848806904654254166"
     },
     "user_tz": -180
    },
    "id": "0dtxEJxJyqPt",
    "outputId": "dc3201fe-1139-4b9a-a9e6-8241f68ee648",
    "ExecuteTime": {
     "end_time": "2024-12-01T11:33:44.653151Z",
     "start_time": "2024-12-01T11:33:44.622832Z"
    }
   },
   "outputs": [
    {
     "data": {
      "text/plain": "   Score                                               Text\n0  0.562              \"shut up hashtags are cool #offended\"\n1  0.750  \"it makes me so fucking irate jesus. nobody is...\n2  0.417       \"Lol Adam the Bull with his fake outrage...\"\n3  0.354  \"passed away early this morning in a fast and ...\n4  0.438  \"lol wow i was gonna say really?! haha have yo...",
      "text/html": "<div>\n<style scoped>\n    .dataframe tbody tr th:only-of-type {\n        vertical-align: middle;\n    }\n\n    .dataframe tbody tr th {\n        vertical-align: top;\n    }\n\n    .dataframe thead th {\n        text-align: right;\n    }\n</style>\n<table border=\"1\" class=\"dataframe\">\n  <thead>\n    <tr style=\"text-align: right;\">\n      <th></th>\n      <th>Score</th>\n      <th>Text</th>\n    </tr>\n  </thead>\n  <tbody>\n    <tr>\n      <th>0</th>\n      <td>0.562</td>\n      <td>\"shut up hashtags are cool #offended\"</td>\n    </tr>\n    <tr>\n      <th>1</th>\n      <td>0.750</td>\n      <td>\"it makes me so fucking irate jesus. nobody is...</td>\n    </tr>\n    <tr>\n      <th>2</th>\n      <td>0.417</td>\n      <td>\"Lol Adam the Bull with his fake outrage...\"</td>\n    </tr>\n    <tr>\n      <th>3</th>\n      <td>0.354</td>\n      <td>\"passed away early this morning in a fast and ...</td>\n    </tr>\n    <tr>\n      <th>4</th>\n      <td>0.438</td>\n      <td>\"lol wow i was gonna say really?! haha have yo...</td>\n    </tr>\n  </tbody>\n</table>\n</div>"
     },
     "execution_count": 10,
     "metadata": {},
     "output_type": "execute_result"
    }
   ],
   "source": [
    "anger_train.head()"
   ]
  },
  {
   "cell_type": "code",
   "execution_count": 11,
   "metadata": {
    "colab": {
     "base_uri": "https://localhost:8080/"
    },
    "executionInfo": {
     "elapsed": 13,
     "status": "ok",
     "timestamp": 1685797211350,
     "user": {
      "displayName": "Вадим Сергеев",
      "userId": "14848806904654254166"
     },
     "user_tz": -180
    },
    "id": "D1HxnQ39yqPu",
    "outputId": "04e05443-1c15-4d5c-bddc-391411078845",
    "ExecuteTime": {
     "end_time": "2024-12-01T11:33:46.185882Z",
     "start_time": "2024-12-01T11:33:46.164463Z"
    }
   },
   "outputs": [
    {
     "name": "stdout",
     "output_type": "stream",
     "text": [
      "<class 'pandas.core.frame.DataFrame'>\n",
      "RangeIndex: 1701 entries, 0 to 1700\n",
      "Data columns (total 2 columns):\n",
      " #   Column  Non-Null Count  Dtype  \n",
      "---  ------  --------------  -----  \n",
      " 0   Score   1701 non-null   float64\n",
      " 1   Text    1701 non-null   object \n",
      "dtypes: float64(1), object(1)\n",
      "memory usage: 26.7+ KB\n"
     ]
    }
   ],
   "source": [
    "anger_train.info()"
   ]
  },
  {
   "cell_type": "code",
   "execution_count": 12,
   "metadata": {
    "id": "caZ9o1reyqPu",
    "executionInfo": {
     "status": "ok",
     "timestamp": 1685797211351,
     "user_tz": -180,
     "elapsed": 12,
     "user": {
      "displayName": "Вадим Сергеев",
      "userId": "14848806904654254166"
     }
    },
    "ExecuteTime": {
     "end_time": "2024-12-01T11:33:47.048936Z",
     "start_time": "2024-12-01T11:33:47.016383Z"
    }
   },
   "outputs": [],
   "source": [
    "##ну типо закинуть вв вмодель попробовать обучить на слова и несколько обученных моделий под каждую эмоцию и валидацию adv и эту сравнить\n",
    "#злость\n",
    "X_anger_train = pd.DataFrame(anger_train['Text'])\n",
    "X_anger_test = pd.DataFrame(anger_test['Text'])\n",
    "\n",
    "Y_anger_train = anger_train['Score'].tolist()\n",
    "Y_anger_test = anger_test['Score'].tolist()\n",
    "#страх\n",
    "X_fear_train = pd.DataFrame(fear_train['Text'])\n",
    "X_fear_test = pd.DataFrame(fear_test['Text'])\n",
    "\n",
    "Y_fear_train = fear_train['Score']\n",
    "Y_fear_test = fear_test['Score']\n",
    "#наслождение\n",
    "X_joy_train = pd.DataFrame(joy_train['Text'])\n",
    "X_joy_test = pd.DataFrame(joy_test['Text'])\n",
    "\n",
    "Y_joy_train = joy_train['Score']\n",
    "Y_joy_test = joy_test['Score']\n",
    "#грусть\n",
    "X_sadness_train = pd.DataFrame(sadness_train['Text'])\n",
    "X_sadness_test = pd.DataFrame(sadness_test['Text'])\n",
    "\n",
    "Y_sadness_train = sadness_train['Score']\n",
    "Y_sadness_test = sadness_test['Score']\n",
    "#валентность))) (плохой-хороший)\n",
    "X_V_train = pd.DataFrame(V_train['Text'])\n",
    "X_V_test = pd.DataFrame(V_test['Text'])\n",
    "\n",
    "Y_V_train = V_train['Score']\n",
    "Y_V_test = V_test['Score']"
   ]
  },
  {
   "cell_type": "code",
   "execution_count": 13,
   "metadata": {
    "colab": {
     "base_uri": "https://localhost:8080/",
     "height": 206
    },
    "executionInfo": {
     "elapsed": 11,
     "status": "ok",
     "timestamp": 1685797211351,
     "user": {
      "displayName": "Вадим Сергеев",
      "userId": "14848806904654254166"
     },
     "user_tz": -180
    },
    "id": "ns8AnqyIyqPv",
    "outputId": "86700bd2-fb06-423e-9cf3-6394fe802335",
    "ExecuteTime": {
     "end_time": "2024-12-01T11:33:48.850476Z",
     "start_time": "2024-12-01T11:33:48.818025Z"
    }
   },
   "outputs": [
    {
     "data": {
      "text/plain": "                                                Text\n0              \"shut up hashtags are cool #offended\"\n1  \"it makes me so fucking irate jesus. nobody is...\n2       \"Lol Adam the Bull with his fake outrage...\"\n3  \"passed away early this morning in a fast and ...\n4  \"lol wow i was gonna say really?! haha have yo...",
      "text/html": "<div>\n<style scoped>\n    .dataframe tbody tr th:only-of-type {\n        vertical-align: middle;\n    }\n\n    .dataframe tbody tr th {\n        vertical-align: top;\n    }\n\n    .dataframe thead th {\n        text-align: right;\n    }\n</style>\n<table border=\"1\" class=\"dataframe\">\n  <thead>\n    <tr style=\"text-align: right;\">\n      <th></th>\n      <th>Text</th>\n    </tr>\n  </thead>\n  <tbody>\n    <tr>\n      <th>0</th>\n      <td>\"shut up hashtags are cool #offended\"</td>\n    </tr>\n    <tr>\n      <th>1</th>\n      <td>\"it makes me so fucking irate jesus. nobody is...</td>\n    </tr>\n    <tr>\n      <th>2</th>\n      <td>\"Lol Adam the Bull with his fake outrage...\"</td>\n    </tr>\n    <tr>\n      <th>3</th>\n      <td>\"passed away early this morning in a fast and ...</td>\n    </tr>\n    <tr>\n      <th>4</th>\n      <td>\"lol wow i was gonna say really?! haha have yo...</td>\n    </tr>\n  </tbody>\n</table>\n</div>"
     },
     "execution_count": 13,
     "metadata": {},
     "output_type": "execute_result"
    }
   ],
   "source": [
    "X_anger_train.head()"
   ]
  },
  {
   "cell_type": "code",
   "execution_count": 14,
   "metadata": {
    "colab": {
     "base_uri": "https://localhost:8080/",
     "height": 206
    },
    "executionInfo": {
     "elapsed": 11,
     "status": "ok",
     "timestamp": 1685797211351,
     "user": {
      "displayName": "Вадим Сергеев",
      "userId": "14848806904654254166"
     },
     "user_tz": -180
    },
    "id": "X7nDd55nyqPw",
    "outputId": "ac8b5954-5d49-4b6f-b04a-03a0bf3ffbec",
    "ExecuteTime": {
     "end_time": "2024-12-01T11:33:49.593743Z",
     "start_time": "2024-12-01T11:33:49.570083Z"
    }
   },
   "outputs": [
    {
     "data": {
      "text/plain": "                                                Text\n0    \"I know you mean well but I'm offended. Prick.\"\n1  \"Let go of resentment, it will hold you back, ...\n2  \"No, I'm not 'depressed because of the weather...\n3  \"#AmarnathTerrorAttack Muslims are killing eve...\n4  \"Prepare to suffer the sting of Ghost Rider's ...",
      "text/html": "<div>\n<style scoped>\n    .dataframe tbody tr th:only-of-type {\n        vertical-align: middle;\n    }\n\n    .dataframe tbody tr th {\n        vertical-align: top;\n    }\n\n    .dataframe thead th {\n        text-align: right;\n    }\n</style>\n<table border=\"1\" class=\"dataframe\">\n  <thead>\n    <tr style=\"text-align: right;\">\n      <th></th>\n      <th>Text</th>\n    </tr>\n  </thead>\n  <tbody>\n    <tr>\n      <th>0</th>\n      <td>\"I know you mean well but I'm offended. Prick.\"</td>\n    </tr>\n    <tr>\n      <th>1</th>\n      <td>\"Let go of resentment, it will hold you back, ...</td>\n    </tr>\n    <tr>\n      <th>2</th>\n      <td>\"No, I'm not 'depressed because of the weather...</td>\n    </tr>\n    <tr>\n      <th>3</th>\n      <td>\"#AmarnathTerrorAttack Muslims are killing eve...</td>\n    </tr>\n    <tr>\n      <th>4</th>\n      <td>\"Prepare to suffer the sting of Ghost Rider's ...</td>\n    </tr>\n  </tbody>\n</table>\n</div>"
     },
     "execution_count": 14,
     "metadata": {},
     "output_type": "execute_result"
    }
   ],
   "source": [
    "X_anger_test.head()"
   ]
  },
  {
   "cell_type": "code",
   "execution_count": 15,
   "metadata": {
    "executionInfo": {
     "elapsed": 3175,
     "status": "ok",
     "timestamp": 1685797214516,
     "user": {
      "displayName": "Вадим Сергеев",
      "userId": "14848806904654254166"
     },
     "user_tz": -180
    },
    "id": "81k1GLx-yqPx",
    "colab": {
     "base_uri": "https://localhost:8080/"
    },
    "outputId": "2b3b6c06-cc04-464e-928a-847e7dbea066",
    "ExecuteTime": {
     "end_time": "2024-12-01T11:33:56.209299Z",
     "start_time": "2024-12-01T11:33:50.908727Z"
    }
   },
   "outputs": [
    {
     "name": "stderr",
     "output_type": "stream",
     "text": [
      "[nltk_data] Downloading package punkt to /Users/kidawr/nltk_data...\n",
      "[nltk_data]   Package punkt is already up-to-date!\n",
      "[nltk_data] Downloading package stopwords to\n",
      "[nltk_data]     /Users/kidawr/nltk_data...\n",
      "[nltk_data]   Package stopwords is already up-to-date!\n"
     ]
    }
   ],
   "source": [
    "\n",
    "import nltk\n",
    "nltk.download('punkt')\n",
    "from nltk.tokenize import word_tokenize\n",
    "nltk.download('stopwords')\n",
    "from nltk.corpus import stopwords\n",
    "stop_words = stopwords.words(\"english\")\n",
    "def remove_stopwords(text):\n",
    "    tokens = word_tokenize(text)\n",
    "    filtered_tokens = [token for token in tokens if token.lower() not in stop_words]\n",
    "    filtered_text = ' '.join(filtered_tokens)\n",
    "    return filtered_text\n",
    "import re\n",
    "def clean_data(df):\n",
    "    # Remove HTML tags\n",
    "    df['Text'] = df['Text'].apply(lambda x: re.sub('<.*?>', '', x))\n",
    "\n",
    "    # Remove non-alphanumeric characters and convert to lowercase\n",
    "    df['Text'] = df['Text'].apply(lambda x: re.sub('[^0-9a-zA-Z\\s]+', '', x).lower())\n",
    "    df['Text'] = df['Text'].apply(remove_stopwords)\n",
    "\n",
    "    return df"
   ]
  },
  {
   "cell_type": "code",
   "execution_count": 16,
   "metadata": {
    "id": "naZj5hXmyqPy",
    "executionInfo": {
     "status": "ok",
     "timestamp": 1685797219675,
     "user_tz": -180,
     "elapsed": 5161,
     "user": {
      "displayName": "Вадим Сергеев",
      "userId": "14848806904654254166"
     }
    },
    "ExecuteTime": {
     "end_time": "2024-12-01T11:33:58.768223Z",
     "start_time": "2024-12-01T11:33:57.515646Z"
    }
   },
   "outputs": [],
   "source": [
    "X_anger_train = clean_data(X_anger_train)\n",
    "X_anger_test = clean_data(X_anger_test)\n",
    "\n",
    "X_fear_train = clean_data(X_fear_train)\n",
    "X_fear_test = clean_data(X_fear_test)\n",
    "\n",
    "X_joy_train = clean_data(X_joy_train)\n",
    "X_joy_test = clean_data(X_joy_test)\n",
    "\n",
    "X_sadness_train = clean_data(X_sadness_train)\n",
    "X_sadness_test = clean_data(X_sadness_test)\n",
    "\n",
    "X_V_train = clean_data(X_V_train)\n",
    "X_V_test = clean_data(X_V_test)"
   ]
  },
  {
   "cell_type": "code",
   "execution_count": 17,
   "metadata": {
    "id": "D3hS1b2EyqPy",
    "executionInfo": {
     "status": "ok",
     "timestamp": 1685797219675,
     "user_tz": -180,
     "elapsed": 24,
     "user": {
      "displayName": "Вадим Сергеев",
      "userId": "14848806904654254166"
     }
    },
    "ExecuteTime": {
     "end_time": "2024-12-01T11:33:59.631669Z",
     "start_time": "2024-12-01T11:33:59.613402Z"
    }
   },
   "outputs": [],
   "source": [
    "X_anger_train = X_anger_train['Text'].tolist()\n",
    "X_anger_test = X_anger_test['Text'].tolist()\n",
    "\n",
    "X_fear_train = X_fear_train['Text'].tolist()\n",
    "X_fear_test = X_fear_test['Text'].tolist()\n",
    "\n",
    "X_joy_train = X_joy_train['Text'].tolist()\n",
    "X_joy_test = X_joy_test['Text'].tolist()\n",
    "\n",
    "X_sadness_train = X_sadness_train['Text'].tolist()\n",
    "X_sadness_test = X_sadness_test['Text'].tolist()\n",
    "\n",
    "X_V_train = X_V_train['Text'].tolist()\n",
    "X_V_test = X_V_test['Text'].tolist()"
   ]
  },
  {
   "cell_type": "code",
   "execution_count": 18,
   "metadata": {
    "colab": {
     "base_uri": "https://localhost:8080/",
     "height": 579,
     "referenced_widgets": [
      "0577e7176bc04ef2bff39c7984dcaf4d",
      "52084924b8034818a265dc7fe9f8a248",
      "e66106f52c0849ee9c5483e65d2e48ca",
      "8cbfc52aee654c1e923f9507d83913cd",
      "4790c06713764e36a2b1b8586b1f7c2d",
      "f7e976117c4e4cdca36f27266930b19e",
      "19b373e26bfe40cca5fcbeb684b3a955",
      "622922b73036478d8a49ade24c3a1f30",
      "dc95b091fce34a698a249f5d35fdbd5f",
      "98967f5a1cda431991f6dd4c08213ec3",
      "0abc32d541694ee29086ed2a2ae963df",
      "f94edbd228dc4a07aec9cb9a421524d0",
      "205c4346805f472d96c7890f1a37480f",
      "da17c4f2027740b28e5083fedac9cbca",
      "8278524985fa4f7884c8a238a17d64ae",
      "d3c83ded654a4d5eb9119c9a77134a96",
      "7c96473aaace4fb5be8703fb4b0730d8",
      "0f8182c6cf1c4c79877dcbb469b8bbda",
      "e15f2546cd8c498aa3afec98b5f40c87",
      "2e09a04a43bb42789116d9e7c58992b9",
      "6f897eec4a4b419b80ed56d9058e54bd",
      "113d789e7c394cb095646769b975a378",
      "8d7921a65f5f430fae9e0cb1d45a575c",
      "f38c26183c5249ce9afaeb122fbfb137",
      "8200dd6565b848129ea3a8048c4486d0",
      "258ad71667e843caa3ef933bec063b45",
      "1f686584fdf1443fa5e0463b38058eec",
      "5bb1f178fe764ebfa7618875ae70b589",
      "8edde18468354e3fb5d7771c4ce928ac",
      "8ed7d575f17a48ff91495d51ca5888b3",
      "4a9f747ec5284e5d94f87eba8013ead0",
      "0228af1f9d054f79a428a725a20fe239",
      "948492e6d0da48cb973b99b3430aebea"
     ]
    },
    "executionInfo": {
     "elapsed": 25593,
     "status": "ok",
     "timestamp": 1685797245246,
     "user": {
      "displayName": "Вадим Сергеев",
      "userId": "14848806904654254166"
     },
     "user_tz": -180
    },
    "id": "TNHmOXm6yqP0",
    "outputId": "574c7dcf-ebe9-4fc8-af1a-a06bc4fcdbba",
    "ExecuteTime": {
     "end_time": "2024-12-01T11:34:08.856050Z",
     "start_time": "2024-12-01T11:34:00.750839Z"
    }
   },
   "outputs": [
    {
     "name": "stdout",
     "output_type": "stream",
     "text": [
      "Requirement already satisfied: transformers in /Users/kidawr/opt/anaconda3/lib/python3.9/site-packages (4.24.0)\r\n",
      "Requirement already satisfied: filelock in /Users/kidawr/opt/anaconda3/lib/python3.9/site-packages (from transformers) (3.6.0)\r\n",
      "Requirement already satisfied: huggingface-hub<1.0,>=0.10.0 in /Users/kidawr/opt/anaconda3/lib/python3.9/site-packages (from transformers) (0.10.1)\r\n",
      "Requirement already satisfied: numpy>=1.17 in /Users/kidawr/opt/anaconda3/lib/python3.9/site-packages (from transformers) (1.21.5)\r\n",
      "Requirement already satisfied: packaging>=20.0 in /Users/kidawr/opt/anaconda3/lib/python3.9/site-packages (from transformers) (24.1)\r\n",
      "Requirement already satisfied: pyyaml>=5.1 in /Users/kidawr/opt/anaconda3/lib/python3.9/site-packages (from transformers) (6.0)\r\n",
      "Requirement already satisfied: regex!=2019.12.17 in /Users/kidawr/opt/anaconda3/lib/python3.9/site-packages (from transformers) (2022.7.9)\r\n",
      "Requirement already satisfied: requests in /Users/kidawr/opt/anaconda3/lib/python3.9/site-packages (from transformers) (2.28.1)\r\n",
      "Requirement already satisfied: tokenizers!=0.11.3,<0.14,>=0.11.1 in /Users/kidawr/opt/anaconda3/lib/python3.9/site-packages (from transformers) (0.11.4)\r\n",
      "Requirement already satisfied: tqdm>=4.27 in /Users/kidawr/opt/anaconda3/lib/python3.9/site-packages (from transformers) (4.64.1)\r\n",
      "Requirement already satisfied: typing-extensions>=3.7.4.3 in /Users/kidawr/opt/anaconda3/lib/python3.9/site-packages (from huggingface-hub<1.0,>=0.10.0->transformers) (4.3.0)\r\n",
      "Requirement already satisfied: charset-normalizer<3,>=2 in /Users/kidawr/opt/anaconda3/lib/python3.9/site-packages (from requests->transformers) (2.0.4)\r\n",
      "Requirement already satisfied: idna<4,>=2.5 in /Users/kidawr/opt/anaconda3/lib/python3.9/site-packages (from requests->transformers) (3.3)\r\n",
      "Requirement already satisfied: urllib3<1.27,>=1.21.1 in /Users/kidawr/opt/anaconda3/lib/python3.9/site-packages (from requests->transformers) (1.26.11)\r\n",
      "Requirement already satisfied: certifi>=2017.4.17 in /Users/kidawr/opt/anaconda3/lib/python3.9/site-packages (from requests->transformers) (2024.8.30)\r\n"
     ]
    },
    {
     "data": {
      "text/plain": "Downloading:   0%|          | 0.00/48.0 [00:00<?, ?B/s]",
      "application/vnd.jupyter.widget-view+json": {
       "version_major": 2,
       "version_minor": 0,
       "model_id": "4d2d95e5afdf4adeaafd64ab1e27c938"
      }
     },
     "metadata": {},
     "output_type": "display_data"
    }
   ],
   "source": [
    "#токенезируем наш текст с помощью трансформера bert\n",
    "!pip install transformers\n",
    "from transformers import BertTokenizer\n",
    "\n",
    "tokenizer = BertTokenizer.from_pretrained('bert-base-uncased')\n",
    "\n",
    "Xb_anger_train = tokenizer(X_anger_train, truncation=True, padding=True)\n",
    "Xb_anger_test = tokenizer(X_anger_test, truncation=True, padding=True)\n",
    "\n",
    "Xb_fear_train = tokenizer(X_fear_train, truncation=True, padding=True)\n",
    "Xb_fear_test = tokenizer(X_fear_test, truncation=True, padding=True)\n",
    "\n",
    "Xb_joy_train = tokenizer(X_joy_train, truncation=True, padding=True)\n",
    "Xb_joy_test = tokenizer(X_joy_test, truncation=True, padding=True)\n",
    "\n",
    "Xb_sadness_train = tokenizer(X_sadness_train, truncation=True, padding=True)\n",
    "Xb_sadness_test = tokenizer(X_sadness_test, truncation=True, padding=True)\n",
    "\n",
    "Xb_V_train = tokenizer(X_V_train, truncation=True, padding=True)\n",
    "Xb_V_test = tokenizer(X_V_test, truncation=True, padding=True)"
   ]
  },
  {
   "cell_type": "markdown",
   "metadata": {
    "id": "aft6ZRv-yqP4"
   },
   "source": [
    "###  Train the Model"
   ]
  },
  {
   "cell_type": "code",
   "source": [
    "import torch\n",
    "    \n",
    "class ValueDataset(torch.utils.data.Dataset):\n",
    "    def __init__(self, encodings,values):\n",
    "        self.encodings = encodings\n",
    "        self.values = list(values)\n",
    "        #Convert each value to float\n",
    "    \n",
    "    def __len__(self):\n",
    "        return len(self.values)\n",
    "    \n",
    "    def __getitem__(self, idx):\n",
    "        item = {key: torch.tensor(val[idx]) for key, val in self.encodings.items()}\n",
    "        item['values'] = torch.tensor(self.values[idx])\n",
    "        return item\n",
    "\n",
    "\n",
    "\n",
    "anger_train_dataset = ValueDataset(Xb_anger_train, Y_anger_train)\n",
    "anger_test_dataset = ValueDataset(Xb_anger_test, Y_anger_test)\n",
    "\n",
    "fear_train_dataset = ValueDataset(Xb_fear_train, Y_fear_train)\n",
    "fear_test_dataset = ValueDataset(Xb_fear_test, Y_fear_test)\n",
    "\n",
    "joy_train_dataset = ValueDataset(Xb_joy_train, Y_joy_train)\n",
    "joy_test_dataset = ValueDataset(Xb_joy_test, Y_joy_test)\n",
    "\n",
    "sadness_train_dataset = ValueDataset(Xb_sadness_train, Y_sadness_train)\n",
    "sadness_test_dataset = ValueDataset(Xb_sadness_test, Y_sadness_test)\n",
    "\n",
    "V_train_dataset = ValueDataset(Xb_V_train, Y_V_train)\n",
    "V_test_dataset = ValueDataset(Xb_V_test, Y_V_test)"
   ],
   "metadata": {
    "id": "iHWzqLdfWa66",
    "executionInfo": {
     "status": "ok",
     "timestamp": 1685797250181,
     "user_tz": -180,
     "elapsed": 4959,
     "user": {
      "displayName": "Вадим Сергеев",
      "userId": "14848806904654254166"
     }
    },
    "ExecuteTime": {
     "end_time": "2024-12-01T11:34:08.870898Z",
     "start_time": "2024-12-01T11:34:08.861063Z"
    }
   },
   "execution_count": 19,
   "outputs": []
  },
  {
   "cell_type": "code",
   "source": [
    "from transformers import BertTokenizer\n",
    "from torch.utils.data import DataLoader  # Add this line\n",
    "\n",
    "tokenizer = BertTokenizer.from_pretrained('bert-base-uncased')\n",
    "\n",
    "\n",
    "train_loader_array = [DataLoader(anger_train_dataset, batch_size=16, shuffle=True), \n",
    "                      DataLoader(fear_train_dataset, batch_size=16, shuffle=True), \n",
    "                      DataLoader(joy_train_dataset, batch_size=16, shuffle=True), \n",
    "                      DataLoader(sadness_train_dataset, batch_size=16, shuffle=True), \n",
    "                      DataLoader(V_train_dataset, batch_size=16, shuffle=True)]\n",
    "\n",
    "test_loader_array = [DataLoader(anger_test_dataset, batch_size=16, shuffle=True), \n",
    "                     DataLoader(fear_test_dataset, batch_size=16, shuffle=True), \n",
    "                     DataLoader(joy_test_dataset, batch_size=16, shuffle=True), \n",
    "                     DataLoader(sadness_test_dataset, batch_size=16, shuffle=True), \n",
    "                     DataLoader(V_test_dataset, batch_size=16, shuffle=True)]\n"
   ],
   "metadata": {
    "id": "pQi1AR51Wn-j",
    "executionInfo": {
     "status": "ok",
     "timestamp": 1685797250532,
     "user_tz": -180,
     "elapsed": 354,
     "user": {
      "displayName": "Вадим Сергеев",
      "userId": "14848806904654254166"
     }
    },
    "ExecuteTime": {
     "end_time": "2024-12-01T11:34:10.294569Z",
     "start_time": "2024-12-01T11:34:09.761405Z"
    }
   },
   "execution_count": 20,
   "outputs": []
  },
  {
   "cell_type": "code",
   "source": [
    "import torch\n",
    "import copy\n",
    "\n",
    "def Model_A(model):\n",
    "    #################\n",
    "    # Загрузка весов модели\n",
    "    model_A = copy.deepcopy(model)\n",
    "    model_A.load_state_dict(torch.load('/Users/kidawr/Desktop/Сириус/Высокоуровневые языки/concordia-ml/semeval/Wheids/model_weights_A.pth', map_location=torch.device('cpu')))\n",
    "\n",
    "    # Перевод модели в режим оценки (eval mode)\n",
    "    model_A.eval()\n",
    "    ##########\n",
    "    return model_A\n",
    "\n",
    "def Model_F(model):\n",
    "    #################\n",
    "    # Загрузка весов модели\n",
    "    model_F = copy.deepcopy(model)\n",
    "    model_F.load_state_dict(torch.load('/Users/kidawr/Desktop/Сириус/Высокоуровневые языки/concordia-ml/semeval/Wheids/model_weights_F.pth', map_location=torch.device('cpu')))\n",
    "\n",
    "    # Перевод модели в режим оценки (eval mode)\n",
    "    model_F.eval()\n",
    "    ##########\n",
    "    return model_F\n",
    "\n",
    "def Model_J(model):\n",
    "    #################\n",
    "    # Загрузка весов модели\n",
    "    model_J = copy.deepcopy(model)\n",
    "    model_J.load_state_dict(torch.load('/Users/kidawr/Desktop/Сириус/Высокоуровневые языки/concordia-ml/semeval/Wheids/model_weights_J.pth', map_location=torch.device('cpu')))\n",
    "\n",
    "    # Перевод модели в режим оценки (eval mode)\n",
    "    model_J.eval()\n",
    "    ##########\n",
    "    return model_J\n",
    "\n",
    "def Model_S(model):\n",
    "    #################\n",
    "    # Загрузка весов модели\n",
    "    model_S = copy.deepcopy(model)\n",
    "    model_S.load_state_dict(torch.load('/Users/kidawr/Desktop/Сириус/Высокоуровневые языки/concordia-ml/semeval/Wheids/model_weights_S.pth', map_location=torch.device('cpu')))\n",
    "\n",
    "    # Перевод модели в режим оценки (eval mode)\n",
    "    model_S.eval()\n",
    "    return model_S\n",
    "\n",
    "def Model_V(model):\n",
    "    #################\n",
    "    # Загрузка весов модели\n",
    "    model_V = copy.deepcopy(model)\n",
    "    model_V.load_state_dict(torch.load('/Users/kidawr/Desktop/Сириус/Высокоуровневые языки/concordia-ml/semeval/Wheids/model_weights_V.pth', map_location=torch.device('cpu')))\n",
    "\n",
    "    # Перевод модели в режим оценки (eval mode)\n",
    "    model_V.eval()\n",
    "    ##########\n",
    "    return model_V\n"
   ],
   "metadata": {
    "id": "Y38OOmawqGV6",
    "executionInfo": {
     "status": "ok",
     "timestamp": 1685797250532,
     "user_tz": -180,
     "elapsed": 4,
     "user": {
      "displayName": "Вадим Сергеев",
      "userId": "14848806904654254166"
     }
    },
    "ExecuteTime": {
     "end_time": "2024-12-01T11:40:31.148083Z",
     "start_time": "2024-12-01T11:40:31.141088Z"
    }
   },
   "execution_count": 25,
   "outputs": []
  },
  {
   "cell_type": "code",
   "source": [
    "flag = True # True-загрузить веса, False-обучить модель, после обучения надо загружать сохраненые веса\n",
    "import torch\n",
    "torch.cuda.empty_cache()\n",
    "import copy\n",
    "# Check current GPU memory usage\n",
    "allocated_memory = torch.cuda.memory_allocated()\n",
    "print(f\"Current GPU memory allocated: {allocated_memory / 1024**3} GB\")\n",
    "import torch\n",
    "from torch.nn import MSELoss\n",
    "from transformers import BertForSequenceClassification, AdamW\n",
    "from torch.utils.data import DataLoader\n",
    "from sklearn.metrics import r2_score\n",
    "\n",
    "# Define the number of epochs\n",
    "num_epochs = 50\n",
    "\n",
    "# Use GPU if available, else use CPU\n",
    "device = torch.device('cuda' if torch.cuda.is_available() else 'cpu')\n",
    "Model_Count = 0# в зависимости от значения будем сохранят и загружать веса разных моделий\n",
    "model_A,model_F,model_J,model_S,model_V = None,None,None,None,None\n",
    "for train_loader, test_loader in zip(train_loader_array, test_loader_array):\n",
    "  Model_Count += 1\n",
    "  # Load pre-trained model\n",
    "  model = BertForSequenceClassification.from_pretrained('bert-base-uncased', num_labels=1)\n",
    "  model.to(device)\n",
    "\n",
    "  # Set up the optimizer\n",
    "  optimizer = AdamW(model.parameters(), lr=1e-5)\n",
    "\n",
    "  # Define the loss function\n",
    "  loss_fn = MSELoss()\n",
    "\n",
    "  def evaluate(model, data_loader, loss_fn, device):\n",
    "      model.eval()\n",
    "      r2_scores = []\n",
    "      losses = []\n",
    "      with torch.no_grad():\n",
    "          for batch in data_loader:\n",
    "              input_ids = batch[\"input_ids\"].to(device)\n",
    "              attention_mask = batch[\"attention_mask\"].to(device)\n",
    "              targets = batch[\"values\"].to(device)\n",
    "\n",
    "              outputs = model(input_ids=input_ids, attention_mask=attention_mask)\n",
    "              preds = outputs.logits.squeeze()\n",
    "              #функция r2_score требует наличия нескольких точек для корректного вычисления коэффициента детерминации R2 если 1 то игнорируем\n",
    "              if len(targets) > 1 and len(preds) > 1:\n",
    "                r2 = r2_score(targets.detach().cpu().numpy(), preds.detach().cpu().numpy())\n",
    "                r2_scores.append(r2)\n",
    "                loss = loss_fn(preds, targets)\n",
    "                losses.append(loss.item())\n",
    "\n",
    "      return np.mean(r2_scores), np.mean(losses)\n",
    "\n",
    "\n",
    "  def train_epoch(model, data_loader, loss_fn, optimizer, device):\n",
    "      model.train()\n",
    "      losses = []\n",
    "      r2_scores = []\n",
    "      for batch_idx, d in enumerate(data_loader, 1):\n",
    "          input_ids = d[\"input_ids\"].to(device)\n",
    "          attention_mask = d[\"attention_mask\"].to(device)\n",
    "          targets = d[\"values\"].to(device)\n",
    "\n",
    "          optimizer.zero_grad()\n",
    "          outputs = model(input_ids=input_ids, attention_mask=attention_mask)\n",
    "          preds = outputs.logits.squeeze()\n",
    "          loss = loss_fn(preds, targets)\n",
    "          loss.backward()\n",
    "          optimizer.step()\n",
    "\n",
    "          losses.append(loss.item())\n",
    "          r2 = r2_score(targets.detach().cpu().numpy(), preds.detach().cpu().numpy())\n",
    "          r2_scores.append(r2)\n",
    "\n",
    "          print(f\"\\rEpoch {epoch}/{num_epochs} {batch_idx}/{len(data_loader)} \"\n",
    "                f\"- loss: {loss.item():.4f} - r2_score: {r2:.4f}\", end=\"\")\n",
    "\n",
    "      return losses, r2_scores\n",
    "  if flag:\n",
    "    if Model_Count == 1:\n",
    "      model_A = Model_A(model)\n",
    "    elif Model_Count == 2:\n",
    "      model_F = Model_F(model)\n",
    "    elif Model_Count == 3:\n",
    "      model_J = Model_J(model)\n",
    "    elif Model_Count == 4:\n",
    "      model_S = Model_S(model)\n",
    "    elif Model_Count == 5:\n",
    "      model_V = Model_V(model)\n",
    "  else:\n",
    "    train_losses = []\n",
    "    train_r2_scores = []\n",
    "    test_r2_scores =[]\n",
    "    test_losses = []\n",
    "    for epoch in range(1, num_epochs + 1):\n",
    "        print(f\"\\nEpoch {epoch}/{num_epochs}\")\n",
    "\n",
    "        train_loss, train_r2_score = train_epoch(model, train_loader, loss_fn, optimizer, device)\n",
    "        train_losses.extend(train_loss)\n",
    "        train_r2_scores.extend(train_r2_score)\n",
    "        print(f\" Train loss: {np.mean(train_losses):.4f} - Train R2 score: {np.mean(train_r2_scores):.4f}\")\n",
    "        test_r2_score, test_loss = evaluate(model, test_loader, loss_fn, device)\n",
    "        test_r2_scores.append(test_r2_score)\n",
    "        test_losses.append(test_loss)\n",
    "        print(f\"Test R2 score: {test_r2_score:.4f} Test loss: {test_loss:.4f}\")\n",
    "\n",
    "    print(f\"\\nFinal Train loss: {np.mean(train_losses):.4f}\")\n",
    "    #Рисовашки\n",
    "    paint(train_losses, train_r2_scores, test_losses, test_r2_scores)\n",
    "    #СОХРАНЕНИЕ ВЕСОВ\n",
    "    Dict = {\n",
    "        1: lambda: torch.save(model.state_dict(), '/Users/kidawr/Desktop/Сириус/Высокоуровневые языки/concordia-ml/semeval/Wheids/model_weights_A.pth'),\n",
    "        2: lambda: torch.save(model.state_dict(), '/Users/kidawr/Desktop/Сириус/Высокоуровневые языки/concordia-ml/semeval/Wheids/model_weights_F.pth'),\n",
    "        3: lambda: torch.save(model.state_dict(), '/Users/kidawr/Desktop/Сириус/Высокоуровневые языки/concordia-ml/semeval/Wheids/model_weights_J.pth'),\n",
    "        4: lambda: torch.save(model.state_dict(), '/Users/kidawr/Desktop/Сириус/Высокоуровневые языки/concordia-ml/semeval/Wheids/model_weights_S.pth'),\n",
    "        5: lambda: torch.save(model.state_dict(), '/Users/kidawr/Desktop/Сириус/Высокоуровневые языки/concordia-ml/semeval/Wheids/model_weights_V.pth')\n",
    "    }\n",
    "    Dict[Model_Count]()  # сохраняем веса"
   ],
   "metadata": {
    "colab": {
     "base_uri": "https://localhost:8080/",
     "height": 569,
     "referenced_widgets": [
      "6b0731d4d0604ac1accb4610804a2291",
      "246d899219b041c5b180122051c3bc22",
      "023a75bc30e545c4b5d43a00a12fd491",
      "5df9c9204fce48929274e4b1918d1281",
      "ae6d9840dd7048d4b463c834532b0261",
      "e0f92e090db54915ab98bd017ffcf117",
      "8601b3de7bf14724923a32f24aa2822d",
      "3425ee6f324f4accafc03a018a45281f",
      "c5f0db6066354ae9b82c22cb799d5c6e",
      "35ba67e5f5aa48eea64b2450631ac7ed",
      "d0315b21658542c194e2d616b73e25a9"
     ]
    },
    "id": "TzdD7YSkWtJS",
    "executionInfo": {
     "status": "ok",
     "timestamp": 1685797311439,
     "user_tz": -180,
     "elapsed": 60910,
     "user": {
      "displayName": "Вадим Сергеев",
      "userId": "14848806904654254166"
     }
    },
    "outputId": "23468f5e-d50a-44b7-ae94-4db1c1aca89b",
    "ExecuteTime": {
     "end_time": "2024-12-01T11:40:46.573129Z",
     "start_time": "2024-12-01T11:40:31.933893Z"
    }
   },
   "execution_count": 26,
   "outputs": [
    {
     "name": "stdout",
     "output_type": "stream",
     "text": [
      "Current GPU memory allocated: 0.0 GB\n"
     ]
    },
    {
     "name": "stderr",
     "output_type": "stream",
     "text": [
      "Some weights of the model checkpoint at bert-base-uncased were not used when initializing BertForSequenceClassification: ['cls.predictions.bias', 'cls.predictions.transform.LayerNorm.weight', 'cls.predictions.decoder.weight', 'cls.predictions.transform.LayerNorm.bias', 'cls.seq_relationship.weight', 'cls.predictions.transform.dense.weight', 'cls.seq_relationship.bias', 'cls.predictions.transform.dense.bias']\n",
      "- This IS expected if you are initializing BertForSequenceClassification from the checkpoint of a model trained on another task or with another architecture (e.g. initializing a BertForSequenceClassification model from a BertForPreTraining model).\n",
      "- This IS NOT expected if you are initializing BertForSequenceClassification from the checkpoint of a model that you expect to be exactly identical (initializing a BertForSequenceClassification model from a BertForSequenceClassification model).\n",
      "Some weights of BertForSequenceClassification were not initialized from the model checkpoint at bert-base-uncased and are newly initialized: ['classifier.weight', 'classifier.bias']\n",
      "You should probably TRAIN this model on a down-stream task to be able to use it for predictions and inference.\n",
      "/Users/kidawr/opt/anaconda3/lib/python3.9/site-packages/transformers/optimization.py:306: FutureWarning: This implementation of AdamW is deprecated and will be removed in a future version. Use the PyTorch implementation torch.optim.AdamW instead, or set `no_deprecation_warning=True` to disable this warning\n",
      "  warnings.warn(\n",
      "Some weights of the model checkpoint at bert-base-uncased were not used when initializing BertForSequenceClassification: ['cls.predictions.bias', 'cls.predictions.transform.LayerNorm.weight', 'cls.predictions.decoder.weight', 'cls.predictions.transform.LayerNorm.bias', 'cls.seq_relationship.weight', 'cls.predictions.transform.dense.weight', 'cls.seq_relationship.bias', 'cls.predictions.transform.dense.bias']\n",
      "- This IS expected if you are initializing BertForSequenceClassification from the checkpoint of a model trained on another task or with another architecture (e.g. initializing a BertForSequenceClassification model from a BertForPreTraining model).\n",
      "- This IS NOT expected if you are initializing BertForSequenceClassification from the checkpoint of a model that you expect to be exactly identical (initializing a BertForSequenceClassification model from a BertForSequenceClassification model).\n",
      "Some weights of BertForSequenceClassification were not initialized from the model checkpoint at bert-base-uncased and are newly initialized: ['classifier.weight', 'classifier.bias']\n",
      "You should probably TRAIN this model on a down-stream task to be able to use it for predictions and inference.\n",
      "Some weights of the model checkpoint at bert-base-uncased were not used when initializing BertForSequenceClassification: ['cls.predictions.bias', 'cls.predictions.transform.LayerNorm.weight', 'cls.predictions.decoder.weight', 'cls.predictions.transform.LayerNorm.bias', 'cls.seq_relationship.weight', 'cls.predictions.transform.dense.weight', 'cls.seq_relationship.bias', 'cls.predictions.transform.dense.bias']\n",
      "- This IS expected if you are initializing BertForSequenceClassification from the checkpoint of a model trained on another task or with another architecture (e.g. initializing a BertForSequenceClassification model from a BertForPreTraining model).\n",
      "- This IS NOT expected if you are initializing BertForSequenceClassification from the checkpoint of a model that you expect to be exactly identical (initializing a BertForSequenceClassification model from a BertForSequenceClassification model).\n",
      "Some weights of BertForSequenceClassification were not initialized from the model checkpoint at bert-base-uncased and are newly initialized: ['classifier.weight', 'classifier.bias']\n",
      "You should probably TRAIN this model on a down-stream task to be able to use it for predictions and inference.\n",
      "Some weights of the model checkpoint at bert-base-uncased were not used when initializing BertForSequenceClassification: ['cls.predictions.bias', 'cls.predictions.transform.LayerNorm.weight', 'cls.predictions.decoder.weight', 'cls.predictions.transform.LayerNorm.bias', 'cls.seq_relationship.weight', 'cls.predictions.transform.dense.weight', 'cls.seq_relationship.bias', 'cls.predictions.transform.dense.bias']\n",
      "- This IS expected if you are initializing BertForSequenceClassification from the checkpoint of a model trained on another task or with another architecture (e.g. initializing a BertForSequenceClassification model from a BertForPreTraining model).\n",
      "- This IS NOT expected if you are initializing BertForSequenceClassification from the checkpoint of a model that you expect to be exactly identical (initializing a BertForSequenceClassification model from a BertForSequenceClassification model).\n",
      "Some weights of BertForSequenceClassification were not initialized from the model checkpoint at bert-base-uncased and are newly initialized: ['classifier.weight', 'classifier.bias']\n",
      "You should probably TRAIN this model on a down-stream task to be able to use it for predictions and inference.\n",
      "Some weights of the model checkpoint at bert-base-uncased were not used when initializing BertForSequenceClassification: ['cls.predictions.bias', 'cls.predictions.transform.LayerNorm.weight', 'cls.predictions.decoder.weight', 'cls.predictions.transform.LayerNorm.bias', 'cls.seq_relationship.weight', 'cls.predictions.transform.dense.weight', 'cls.seq_relationship.bias', 'cls.predictions.transform.dense.bias']\n",
      "- This IS expected if you are initializing BertForSequenceClassification from the checkpoint of a model trained on another task or with another architecture (e.g. initializing a BertForSequenceClassification model from a BertForPreTraining model).\n",
      "- This IS NOT expected if you are initializing BertForSequenceClassification from the checkpoint of a model that you expect to be exactly identical (initializing a BertForSequenceClassification model from a BertForSequenceClassification model).\n",
      "Some weights of BertForSequenceClassification were not initialized from the model checkpoint at bert-base-uncased and are newly initialized: ['classifier.weight', 'classifier.bias']\n",
      "You should probably TRAIN this model on a down-stream task to be able to use it for predictions and inference.\n"
     ]
    }
   ]
  },
  {
   "cell_type": "code",
   "execution_count": 17,
   "metadata": {
    "id": "61HB6oZoyqP4",
    "executionInfo": {
     "status": "ok",
     "timestamp": 1685797311440,
     "user_tz": -180,
     "elapsed": 26,
     "user": {
      "displayName": "Вадим Сергеев",
      "userId": "14848806904654254166"
     }
    }
   },
   "outputs": [],
   "source": [
    "#@title Текст заголовка по умолчанию воу воу обучается))\n"
   ]
  },
  {
   "cell_type": "code",
   "execution_count": 30,
   "metadata": {
    "id": "DUDhJsccyqP8",
    "colab": {
     "base_uri": "https://localhost:8080/"
    },
    "executionInfo": {
     "status": "ok",
     "timestamp": 1685797314654,
     "user_tz": -180,
     "elapsed": 3237,
     "user": {
      "displayName": "Вадим Сергеев",
      "userId": "14848806904654254166"
     }
    },
    "outputId": "ae958fc3-bd36-450a-84be-330541fa1d21",
    "ExecuteTime": {
     "end_time": "2024-12-01T11:42:25.035094Z",
     "start_time": "2024-12-01T11:42:23.781064Z"
    }
   },
   "outputs": [
    {
     "name": "stdout",
     "output_type": "stream",
     "text": [
      "angry: 0.4226667881011963\n",
      "fear: 0.5345861315727234\n",
      "joy: 0.2506936490535736\n",
      "sadness: 0.5730095505714417\n",
      "valent: 0.39034920930862427\n"
     ]
    }
   ],
   "source": [
    "# чистим от мусора предложение\n",
    "def clean_words(sentence):\n",
    "    # Удаление HTML-тегов\n",
    "    sentence = re.sub('<.*?>', '', sentence)\n",
    "\n",
    "    # Удаление неалфавитно-цифровых символов и приведение к нижнему регистру\n",
    "    sentence = re.sub('[^0-9a-zA-Z\\s]+', '', sentence).lower()\n",
    "    tokens = word_tokenize(sentence)\n",
    "    filtered_tokens = [token for token in tokens if token.lower() not in stop_words]\n",
    "    sentence = ' '.join(filtered_tokens)\n",
    "\n",
    "    # токикизируем с бертой)\n",
    "    inputs = tokenizer(sentence, truncation=True, padding=True, return_tensors=\"pt\")\n",
    "    # Передача входных данных в модель\n",
    "    input_ids = inputs[\"input_ids\"].to(device)\n",
    "    attention_mask = inputs[\"attention_mask\"].to(device)\n",
    "    return input_ids, attention_mask\n",
    "\n",
    "def Print_res(sentence):\n",
    "    input_ids, attention_mask = clean_words(sentence)\n",
    "    # Получение оценки предложения\n",
    "    outputs = model_A(input_ids=input_ids, attention_mask=attention_mask)\n",
    "    preds = outputs.logits.squeeze()\n",
    "    # Оценка предсказания\n",
    "    prediction = preds.item()\n",
    "    print(f\"angry: {prediction}\")\n",
    "\n",
    "    outputs = model_F(input_ids=input_ids, attention_mask=attention_mask)\n",
    "    preds = outputs.logits.squeeze()\n",
    "    prediction = preds.item()\n",
    "    print(f\"fear: {prediction}\")\n",
    "\n",
    "\n",
    "    outputs = model_J(input_ids=input_ids, attention_mask=attention_mask)\n",
    "    preds = outputs.logits.squeeze()\n",
    "    prediction = preds.item()\n",
    "    print(f\"joy: {prediction}\")\n",
    "\n",
    "    outputs = model_S(input_ids=input_ids, attention_mask=attention_mask)\n",
    "    preds = outputs.logits.squeeze()\n",
    "    prediction = preds.item()\n",
    "    print(f\"sadness: {prediction}\")\n",
    "\n",
    "    outputs = model_V(input_ids=input_ids, attention_mask=attention_mask)\n",
    "    preds = outputs.logits.squeeze()\n",
    "    prediction = preds.item()\n",
    "    print(f\"valent: {prediction}\")\n",
    "Print_res(\"If you ignore me, you will die!\")"
   ]
  },
  {
   "cell_type": "code",
   "source": [
    "sum = 0\n",
    "delts= []\n",
    "predictions = []\n",
    "#anger_test fear_test joy_test sadness_test V_test\n",
    "namedt = \"fear_test\"\n",
    "dt = fear_test\n",
    "model = model_F\n",
    "for sentence, score in zip(dt['Text'], dt['Score']):\n",
    "    input_ids, attention_mask = clean_words(sentence)\n",
    "    outputs = model(input_ids=input_ids, attention_mask=attention_mask)\n",
    "    preds = outputs.logits.squeeze()\n",
    "    # Оценка предсказания\n",
    "    prediction = preds.item()\n",
    "    delts.append(abs(score - prediction))\n",
    "    predictions.append(prediction)\n",
    "\n",
    "# Запись предсказаний в новый столбец \"Test_score\"\n",
    "dt['Test_score'] = predictions\n",
    "\n",
    "print(f\"mean ошбка: {np.mean(delts)}\")\n",
    "print(f\"max ошибка на тестовой: {np.max(delts)}\")\n",
    "# Сохранение данных в новый файл\n",
    "dt.to_csv('/content/drive/MyDrive/python/semeval/Test_score/' + namedt + '.csv', index=False)"
   ],
   "metadata": {
    "id": "N0q-pwkSswQi",
    "colab": {
     "base_uri": "https://localhost:8080/"
    },
    "executionInfo": {
     "status": "ok",
     "timestamp": 1685783225349,
     "user_tz": -180,
     "elapsed": 19921,
     "user": {
      "displayName": "Вадим Сергеев",
      "userId": "14848806904654254166"
     }
    },
    "outputId": "5e1fa09b-b0f3-4a46-de4a-f48401e451c1"
   },
   "execution_count": null,
   "outputs": [
    {
     "output_type": "stream",
     "name": "stdout",
     "text": [
      "mean ошбка: 0.10085645992818153\n",
      "max ошибка на тестовой: 0.498538910150528\n"
     ]
    }
   ]
  },
  {
   "cell_type": "markdown",
   "source": [
    "A-злость:\n",
    "\n",
    "mean ошбка: 0.11225102423788783\n",
    "\n",
    "max ошибка на тестовой: 0.45749985551834105\n",
    "\n",
    "F-страх:\n",
    "\n",
    "mean ошбка: 0.10085645992818153\n",
    "\n",
    "max ошибка на тестовой: 0.498538910150528\n",
    "\n",
    "J-наслождение:\n",
    "\n",
    "mean ошбка: 0.12240305352286518\n",
    "\n",
    "max ошибка на тестовой: 0.6921054396629334\n",
    "\n",
    "S-грусть:\n",
    "\n",
    "mean ошбка: 0.11097818684626848\n",
    "\n",
    "max ошибка на тестовой: 0.5690200281143188\n",
    "\n",
    "V-0 плохо,1 хорошо:\n",
    "\n",
    "mean ошбка: 0.1059550210799835\n",
    "\n",
    "max ошибка на тестовой: 0.4936003503799439"
   ],
   "metadata": {
    "id": "OxJSou_Ly8zH"
   }
  }
 ],
 "metadata": {
  "colab": {
   "provenance": [],
   "gpuType": "T4"
  },
  "kernelspec": {
   "name": "python3",
   "language": "python",
   "display_name": "Python 3 (ipykernel)"
  },
  "language_info": {
   "codemirror_mode": {
    "name": "ipython",
    "version": 3
   },
   "file_extension": ".py",
   "mimetype": "text/x-python",
   "name": "python",
   "nbconvert_exporter": "python",
   "pygments_lexer": "ipython3",
   "version": "3.6.4"
  },
  "widgets": {
   "application/vnd.jupyter.widget-state+json": {
    "0577e7176bc04ef2bff39c7984dcaf4d": {
     "model_module": "@jupyter-widgets/controls",
     "model_name": "HBoxModel",
     "model_module_version": "1.5.0",
     "state": {
      "_dom_classes": [],
      "_model_module": "@jupyter-widgets/controls",
      "_model_module_version": "1.5.0",
      "_model_name": "HBoxModel",
      "_view_count": null,
      "_view_module": "@jupyter-widgets/controls",
      "_view_module_version": "1.5.0",
      "_view_name": "HBoxView",
      "box_style": "",
      "children": [
       "IPY_MODEL_52084924b8034818a265dc7fe9f8a248",
       "IPY_MODEL_e66106f52c0849ee9c5483e65d2e48ca",
       "IPY_MODEL_8cbfc52aee654c1e923f9507d83913cd"
      ],
      "layout": "IPY_MODEL_4790c06713764e36a2b1b8586b1f7c2d"
     }
    },
    "52084924b8034818a265dc7fe9f8a248": {
     "model_module": "@jupyter-widgets/controls",
     "model_name": "HTMLModel",
     "model_module_version": "1.5.0",
     "state": {
      "_dom_classes": [],
      "_model_module": "@jupyter-widgets/controls",
      "_model_module_version": "1.5.0",
      "_model_name": "HTMLModel",
      "_view_count": null,
      "_view_module": "@jupyter-widgets/controls",
      "_view_module_version": "1.5.0",
      "_view_name": "HTMLView",
      "description": "",
      "description_tooltip": null,
      "layout": "IPY_MODEL_f7e976117c4e4cdca36f27266930b19e",
      "placeholder": "​",
      "style": "IPY_MODEL_19b373e26bfe40cca5fcbeb684b3a955",
      "value": "Downloading (…)solve/main/vocab.txt: 100%"
     }
    },
    "e66106f52c0849ee9c5483e65d2e48ca": {
     "model_module": "@jupyter-widgets/controls",
     "model_name": "FloatProgressModel",
     "model_module_version": "1.5.0",
     "state": {
      "_dom_classes": [],
      "_model_module": "@jupyter-widgets/controls",
      "_model_module_version": "1.5.0",
      "_model_name": "FloatProgressModel",
      "_view_count": null,
      "_view_module": "@jupyter-widgets/controls",
      "_view_module_version": "1.5.0",
      "_view_name": "ProgressView",
      "bar_style": "success",
      "description": "",
      "description_tooltip": null,
      "layout": "IPY_MODEL_622922b73036478d8a49ade24c3a1f30",
      "max": 231508,
      "min": 0,
      "orientation": "horizontal",
      "style": "IPY_MODEL_dc95b091fce34a698a249f5d35fdbd5f",
      "value": 231508
     }
    },
    "8cbfc52aee654c1e923f9507d83913cd": {
     "model_module": "@jupyter-widgets/controls",
     "model_name": "HTMLModel",
     "model_module_version": "1.5.0",
     "state": {
      "_dom_classes": [],
      "_model_module": "@jupyter-widgets/controls",
      "_model_module_version": "1.5.0",
      "_model_name": "HTMLModel",
      "_view_count": null,
      "_view_module": "@jupyter-widgets/controls",
      "_view_module_version": "1.5.0",
      "_view_name": "HTMLView",
      "description": "",
      "description_tooltip": null,
      "layout": "IPY_MODEL_98967f5a1cda431991f6dd4c08213ec3",
      "placeholder": "​",
      "style": "IPY_MODEL_0abc32d541694ee29086ed2a2ae963df",
      "value": " 232k/232k [00:00&lt;00:00, 4.62MB/s]"
     }
    },
    "4790c06713764e36a2b1b8586b1f7c2d": {
     "model_module": "@jupyter-widgets/base",
     "model_name": "LayoutModel",
     "model_module_version": "1.2.0",
     "state": {
      "_model_module": "@jupyter-widgets/base",
      "_model_module_version": "1.2.0",
      "_model_name": "LayoutModel",
      "_view_count": null,
      "_view_module": "@jupyter-widgets/base",
      "_view_module_version": "1.2.0",
      "_view_name": "LayoutView",
      "align_content": null,
      "align_items": null,
      "align_self": null,
      "border": null,
      "bottom": null,
      "display": null,
      "flex": null,
      "flex_flow": null,
      "grid_area": null,
      "grid_auto_columns": null,
      "grid_auto_flow": null,
      "grid_auto_rows": null,
      "grid_column": null,
      "grid_gap": null,
      "grid_row": null,
      "grid_template_areas": null,
      "grid_template_columns": null,
      "grid_template_rows": null,
      "height": null,
      "justify_content": null,
      "justify_items": null,
      "left": null,
      "margin": null,
      "max_height": null,
      "max_width": null,
      "min_height": null,
      "min_width": null,
      "object_fit": null,
      "object_position": null,
      "order": null,
      "overflow": null,
      "overflow_x": null,
      "overflow_y": null,
      "padding": null,
      "right": null,
      "top": null,
      "visibility": null,
      "width": null
     }
    },
    "f7e976117c4e4cdca36f27266930b19e": {
     "model_module": "@jupyter-widgets/base",
     "model_name": "LayoutModel",
     "model_module_version": "1.2.0",
     "state": {
      "_model_module": "@jupyter-widgets/base",
      "_model_module_version": "1.2.0",
      "_model_name": "LayoutModel",
      "_view_count": null,
      "_view_module": "@jupyter-widgets/base",
      "_view_module_version": "1.2.0",
      "_view_name": "LayoutView",
      "align_content": null,
      "align_items": null,
      "align_self": null,
      "border": null,
      "bottom": null,
      "display": null,
      "flex": null,
      "flex_flow": null,
      "grid_area": null,
      "grid_auto_columns": null,
      "grid_auto_flow": null,
      "grid_auto_rows": null,
      "grid_column": null,
      "grid_gap": null,
      "grid_row": null,
      "grid_template_areas": null,
      "grid_template_columns": null,
      "grid_template_rows": null,
      "height": null,
      "justify_content": null,
      "justify_items": null,
      "left": null,
      "margin": null,
      "max_height": null,
      "max_width": null,
      "min_height": null,
      "min_width": null,
      "object_fit": null,
      "object_position": null,
      "order": null,
      "overflow": null,
      "overflow_x": null,
      "overflow_y": null,
      "padding": null,
      "right": null,
      "top": null,
      "visibility": null,
      "width": null
     }
    },
    "19b373e26bfe40cca5fcbeb684b3a955": {
     "model_module": "@jupyter-widgets/controls",
     "model_name": "DescriptionStyleModel",
     "model_module_version": "1.5.0",
     "state": {
      "_model_module": "@jupyter-widgets/controls",
      "_model_module_version": "1.5.0",
      "_model_name": "DescriptionStyleModel",
      "_view_count": null,
      "_view_module": "@jupyter-widgets/base",
      "_view_module_version": "1.2.0",
      "_view_name": "StyleView",
      "description_width": ""
     }
    },
    "622922b73036478d8a49ade24c3a1f30": {
     "model_module": "@jupyter-widgets/base",
     "model_name": "LayoutModel",
     "model_module_version": "1.2.0",
     "state": {
      "_model_module": "@jupyter-widgets/base",
      "_model_module_version": "1.2.0",
      "_model_name": "LayoutModel",
      "_view_count": null,
      "_view_module": "@jupyter-widgets/base",
      "_view_module_version": "1.2.0",
      "_view_name": "LayoutView",
      "align_content": null,
      "align_items": null,
      "align_self": null,
      "border": null,
      "bottom": null,
      "display": null,
      "flex": null,
      "flex_flow": null,
      "grid_area": null,
      "grid_auto_columns": null,
      "grid_auto_flow": null,
      "grid_auto_rows": null,
      "grid_column": null,
      "grid_gap": null,
      "grid_row": null,
      "grid_template_areas": null,
      "grid_template_columns": null,
      "grid_template_rows": null,
      "height": null,
      "justify_content": null,
      "justify_items": null,
      "left": null,
      "margin": null,
      "max_height": null,
      "max_width": null,
      "min_height": null,
      "min_width": null,
      "object_fit": null,
      "object_position": null,
      "order": null,
      "overflow": null,
      "overflow_x": null,
      "overflow_y": null,
      "padding": null,
      "right": null,
      "top": null,
      "visibility": null,
      "width": null
     }
    },
    "dc95b091fce34a698a249f5d35fdbd5f": {
     "model_module": "@jupyter-widgets/controls",
     "model_name": "ProgressStyleModel",
     "model_module_version": "1.5.0",
     "state": {
      "_model_module": "@jupyter-widgets/controls",
      "_model_module_version": "1.5.0",
      "_model_name": "ProgressStyleModel",
      "_view_count": null,
      "_view_module": "@jupyter-widgets/base",
      "_view_module_version": "1.2.0",
      "_view_name": "StyleView",
      "bar_color": null,
      "description_width": ""
     }
    },
    "98967f5a1cda431991f6dd4c08213ec3": {
     "model_module": "@jupyter-widgets/base",
     "model_name": "LayoutModel",
     "model_module_version": "1.2.0",
     "state": {
      "_model_module": "@jupyter-widgets/base",
      "_model_module_version": "1.2.0",
      "_model_name": "LayoutModel",
      "_view_count": null,
      "_view_module": "@jupyter-widgets/base",
      "_view_module_version": "1.2.0",
      "_view_name": "LayoutView",
      "align_content": null,
      "align_items": null,
      "align_self": null,
      "border": null,
      "bottom": null,
      "display": null,
      "flex": null,
      "flex_flow": null,
      "grid_area": null,
      "grid_auto_columns": null,
      "grid_auto_flow": null,
      "grid_auto_rows": null,
      "grid_column": null,
      "grid_gap": null,
      "grid_row": null,
      "grid_template_areas": null,
      "grid_template_columns": null,
      "grid_template_rows": null,
      "height": null,
      "justify_content": null,
      "justify_items": null,
      "left": null,
      "margin": null,
      "max_height": null,
      "max_width": null,
      "min_height": null,
      "min_width": null,
      "object_fit": null,
      "object_position": null,
      "order": null,
      "overflow": null,
      "overflow_x": null,
      "overflow_y": null,
      "padding": null,
      "right": null,
      "top": null,
      "visibility": null,
      "width": null
     }
    },
    "0abc32d541694ee29086ed2a2ae963df": {
     "model_module": "@jupyter-widgets/controls",
     "model_name": "DescriptionStyleModel",
     "model_module_version": "1.5.0",
     "state": {
      "_model_module": "@jupyter-widgets/controls",
      "_model_module_version": "1.5.0",
      "_model_name": "DescriptionStyleModel",
      "_view_count": null,
      "_view_module": "@jupyter-widgets/base",
      "_view_module_version": "1.2.0",
      "_view_name": "StyleView",
      "description_width": ""
     }
    },
    "f94edbd228dc4a07aec9cb9a421524d0": {
     "model_module": "@jupyter-widgets/controls",
     "model_name": "HBoxModel",
     "model_module_version": "1.5.0",
     "state": {
      "_dom_classes": [],
      "_model_module": "@jupyter-widgets/controls",
      "_model_module_version": "1.5.0",
      "_model_name": "HBoxModel",
      "_view_count": null,
      "_view_module": "@jupyter-widgets/controls",
      "_view_module_version": "1.5.0",
      "_view_name": "HBoxView",
      "box_style": "",
      "children": [
       "IPY_MODEL_205c4346805f472d96c7890f1a37480f",
       "IPY_MODEL_da17c4f2027740b28e5083fedac9cbca",
       "IPY_MODEL_8278524985fa4f7884c8a238a17d64ae"
      ],
      "layout": "IPY_MODEL_d3c83ded654a4d5eb9119c9a77134a96"
     }
    },
    "205c4346805f472d96c7890f1a37480f": {
     "model_module": "@jupyter-widgets/controls",
     "model_name": "HTMLModel",
     "model_module_version": "1.5.0",
     "state": {
      "_dom_classes": [],
      "_model_module": "@jupyter-widgets/controls",
      "_model_module_version": "1.5.0",
      "_model_name": "HTMLModel",
      "_view_count": null,
      "_view_module": "@jupyter-widgets/controls",
      "_view_module_version": "1.5.0",
      "_view_name": "HTMLView",
      "description": "",
      "description_tooltip": null,
      "layout": "IPY_MODEL_7c96473aaace4fb5be8703fb4b0730d8",
      "placeholder": "​",
      "style": "IPY_MODEL_0f8182c6cf1c4c79877dcbb469b8bbda",
      "value": "Downloading (…)okenizer_config.json: 100%"
     }
    },
    "da17c4f2027740b28e5083fedac9cbca": {
     "model_module": "@jupyter-widgets/controls",
     "model_name": "FloatProgressModel",
     "model_module_version": "1.5.0",
     "state": {
      "_dom_classes": [],
      "_model_module": "@jupyter-widgets/controls",
      "_model_module_version": "1.5.0",
      "_model_name": "FloatProgressModel",
      "_view_count": null,
      "_view_module": "@jupyter-widgets/controls",
      "_view_module_version": "1.5.0",
      "_view_name": "ProgressView",
      "bar_style": "success",
      "description": "",
      "description_tooltip": null,
      "layout": "IPY_MODEL_e15f2546cd8c498aa3afec98b5f40c87",
      "max": 28,
      "min": 0,
      "orientation": "horizontal",
      "style": "IPY_MODEL_2e09a04a43bb42789116d9e7c58992b9",
      "value": 28
     }
    },
    "8278524985fa4f7884c8a238a17d64ae": {
     "model_module": "@jupyter-widgets/controls",
     "model_name": "HTMLModel",
     "model_module_version": "1.5.0",
     "state": {
      "_dom_classes": [],
      "_model_module": "@jupyter-widgets/controls",
      "_model_module_version": "1.5.0",
      "_model_name": "HTMLModel",
      "_view_count": null,
      "_view_module": "@jupyter-widgets/controls",
      "_view_module_version": "1.5.0",
      "_view_name": "HTMLView",
      "description": "",
      "description_tooltip": null,
      "layout": "IPY_MODEL_6f897eec4a4b419b80ed56d9058e54bd",
      "placeholder": "​",
      "style": "IPY_MODEL_113d789e7c394cb095646769b975a378",
      "value": " 28.0/28.0 [00:00&lt;00:00, 1.58kB/s]"
     }
    },
    "d3c83ded654a4d5eb9119c9a77134a96": {
     "model_module": "@jupyter-widgets/base",
     "model_name": "LayoutModel",
     "model_module_version": "1.2.0",
     "state": {
      "_model_module": "@jupyter-widgets/base",
      "_model_module_version": "1.2.0",
      "_model_name": "LayoutModel",
      "_view_count": null,
      "_view_module": "@jupyter-widgets/base",
      "_view_module_version": "1.2.0",
      "_view_name": "LayoutView",
      "align_content": null,
      "align_items": null,
      "align_self": null,
      "border": null,
      "bottom": null,
      "display": null,
      "flex": null,
      "flex_flow": null,
      "grid_area": null,
      "grid_auto_columns": null,
      "grid_auto_flow": null,
      "grid_auto_rows": null,
      "grid_column": null,
      "grid_gap": null,
      "grid_row": null,
      "grid_template_areas": null,
      "grid_template_columns": null,
      "grid_template_rows": null,
      "height": null,
      "justify_content": null,
      "justify_items": null,
      "left": null,
      "margin": null,
      "max_height": null,
      "max_width": null,
      "min_height": null,
      "min_width": null,
      "object_fit": null,
      "object_position": null,
      "order": null,
      "overflow": null,
      "overflow_x": null,
      "overflow_y": null,
      "padding": null,
      "right": null,
      "top": null,
      "visibility": null,
      "width": null
     }
    },
    "7c96473aaace4fb5be8703fb4b0730d8": {
     "model_module": "@jupyter-widgets/base",
     "model_name": "LayoutModel",
     "model_module_version": "1.2.0",
     "state": {
      "_model_module": "@jupyter-widgets/base",
      "_model_module_version": "1.2.0",
      "_model_name": "LayoutModel",
      "_view_count": null,
      "_view_module": "@jupyter-widgets/base",
      "_view_module_version": "1.2.0",
      "_view_name": "LayoutView",
      "align_content": null,
      "align_items": null,
      "align_self": null,
      "border": null,
      "bottom": null,
      "display": null,
      "flex": null,
      "flex_flow": null,
      "grid_area": null,
      "grid_auto_columns": null,
      "grid_auto_flow": null,
      "grid_auto_rows": null,
      "grid_column": null,
      "grid_gap": null,
      "grid_row": null,
      "grid_template_areas": null,
      "grid_template_columns": null,
      "grid_template_rows": null,
      "height": null,
      "justify_content": null,
      "justify_items": null,
      "left": null,
      "margin": null,
      "max_height": null,
      "max_width": null,
      "min_height": null,
      "min_width": null,
      "object_fit": null,
      "object_position": null,
      "order": null,
      "overflow": null,
      "overflow_x": null,
      "overflow_y": null,
      "padding": null,
      "right": null,
      "top": null,
      "visibility": null,
      "width": null
     }
    },
    "0f8182c6cf1c4c79877dcbb469b8bbda": {
     "model_module": "@jupyter-widgets/controls",
     "model_name": "DescriptionStyleModel",
     "model_module_version": "1.5.0",
     "state": {
      "_model_module": "@jupyter-widgets/controls",
      "_model_module_version": "1.5.0",
      "_model_name": "DescriptionStyleModel",
      "_view_count": null,
      "_view_module": "@jupyter-widgets/base",
      "_view_module_version": "1.2.0",
      "_view_name": "StyleView",
      "description_width": ""
     }
    },
    "e15f2546cd8c498aa3afec98b5f40c87": {
     "model_module": "@jupyter-widgets/base",
     "model_name": "LayoutModel",
     "model_module_version": "1.2.0",
     "state": {
      "_model_module": "@jupyter-widgets/base",
      "_model_module_version": "1.2.0",
      "_model_name": "LayoutModel",
      "_view_count": null,
      "_view_module": "@jupyter-widgets/base",
      "_view_module_version": "1.2.0",
      "_view_name": "LayoutView",
      "align_content": null,
      "align_items": null,
      "align_self": null,
      "border": null,
      "bottom": null,
      "display": null,
      "flex": null,
      "flex_flow": null,
      "grid_area": null,
      "grid_auto_columns": null,
      "grid_auto_flow": null,
      "grid_auto_rows": null,
      "grid_column": null,
      "grid_gap": null,
      "grid_row": null,
      "grid_template_areas": null,
      "grid_template_columns": null,
      "grid_template_rows": null,
      "height": null,
      "justify_content": null,
      "justify_items": null,
      "left": null,
      "margin": null,
      "max_height": null,
      "max_width": null,
      "min_height": null,
      "min_width": null,
      "object_fit": null,
      "object_position": null,
      "order": null,
      "overflow": null,
      "overflow_x": null,
      "overflow_y": null,
      "padding": null,
      "right": null,
      "top": null,
      "visibility": null,
      "width": null
     }
    },
    "2e09a04a43bb42789116d9e7c58992b9": {
     "model_module": "@jupyter-widgets/controls",
     "model_name": "ProgressStyleModel",
     "model_module_version": "1.5.0",
     "state": {
      "_model_module": "@jupyter-widgets/controls",
      "_model_module_version": "1.5.0",
      "_model_name": "ProgressStyleModel",
      "_view_count": null,
      "_view_module": "@jupyter-widgets/base",
      "_view_module_version": "1.2.0",
      "_view_name": "StyleView",
      "bar_color": null,
      "description_width": ""
     }
    },
    "6f897eec4a4b419b80ed56d9058e54bd": {
     "model_module": "@jupyter-widgets/base",
     "model_name": "LayoutModel",
     "model_module_version": "1.2.0",
     "state": {
      "_model_module": "@jupyter-widgets/base",
      "_model_module_version": "1.2.0",
      "_model_name": "LayoutModel",
      "_view_count": null,
      "_view_module": "@jupyter-widgets/base",
      "_view_module_version": "1.2.0",
      "_view_name": "LayoutView",
      "align_content": null,
      "align_items": null,
      "align_self": null,
      "border": null,
      "bottom": null,
      "display": null,
      "flex": null,
      "flex_flow": null,
      "grid_area": null,
      "grid_auto_columns": null,
      "grid_auto_flow": null,
      "grid_auto_rows": null,
      "grid_column": null,
      "grid_gap": null,
      "grid_row": null,
      "grid_template_areas": null,
      "grid_template_columns": null,
      "grid_template_rows": null,
      "height": null,
      "justify_content": null,
      "justify_items": null,
      "left": null,
      "margin": null,
      "max_height": null,
      "max_width": null,
      "min_height": null,
      "min_width": null,
      "object_fit": null,
      "object_position": null,
      "order": null,
      "overflow": null,
      "overflow_x": null,
      "overflow_y": null,
      "padding": null,
      "right": null,
      "top": null,
      "visibility": null,
      "width": null
     }
    },
    "113d789e7c394cb095646769b975a378": {
     "model_module": "@jupyter-widgets/controls",
     "model_name": "DescriptionStyleModel",
     "model_module_version": "1.5.0",
     "state": {
      "_model_module": "@jupyter-widgets/controls",
      "_model_module_version": "1.5.0",
      "_model_name": "DescriptionStyleModel",
      "_view_count": null,
      "_view_module": "@jupyter-widgets/base",
      "_view_module_version": "1.2.0",
      "_view_name": "StyleView",
      "description_width": ""
     }
    },
    "8d7921a65f5f430fae9e0cb1d45a575c": {
     "model_module": "@jupyter-widgets/controls",
     "model_name": "HBoxModel",
     "model_module_version": "1.5.0",
     "state": {
      "_dom_classes": [],
      "_model_module": "@jupyter-widgets/controls",
      "_model_module_version": "1.5.0",
      "_model_name": "HBoxModel",
      "_view_count": null,
      "_view_module": "@jupyter-widgets/controls",
      "_view_module_version": "1.5.0",
      "_view_name": "HBoxView",
      "box_style": "",
      "children": [
       "IPY_MODEL_f38c26183c5249ce9afaeb122fbfb137",
       "IPY_MODEL_8200dd6565b848129ea3a8048c4486d0",
       "IPY_MODEL_258ad71667e843caa3ef933bec063b45"
      ],
      "layout": "IPY_MODEL_1f686584fdf1443fa5e0463b38058eec"
     }
    },
    "f38c26183c5249ce9afaeb122fbfb137": {
     "model_module": "@jupyter-widgets/controls",
     "model_name": "HTMLModel",
     "model_module_version": "1.5.0",
     "state": {
      "_dom_classes": [],
      "_model_module": "@jupyter-widgets/controls",
      "_model_module_version": "1.5.0",
      "_model_name": "HTMLModel",
      "_view_count": null,
      "_view_module": "@jupyter-widgets/controls",
      "_view_module_version": "1.5.0",
      "_view_name": "HTMLView",
      "description": "",
      "description_tooltip": null,
      "layout": "IPY_MODEL_5bb1f178fe764ebfa7618875ae70b589",
      "placeholder": "​",
      "style": "IPY_MODEL_8edde18468354e3fb5d7771c4ce928ac",
      "value": "Downloading (…)lve/main/config.json: 100%"
     }
    },
    "8200dd6565b848129ea3a8048c4486d0": {
     "model_module": "@jupyter-widgets/controls",
     "model_name": "FloatProgressModel",
     "model_module_version": "1.5.0",
     "state": {
      "_dom_classes": [],
      "_model_module": "@jupyter-widgets/controls",
      "_model_module_version": "1.5.0",
      "_model_name": "FloatProgressModel",
      "_view_count": null,
      "_view_module": "@jupyter-widgets/controls",
      "_view_module_version": "1.5.0",
      "_view_name": "ProgressView",
      "bar_style": "success",
      "description": "",
      "description_tooltip": null,
      "layout": "IPY_MODEL_8ed7d575f17a48ff91495d51ca5888b3",
      "max": 570,
      "min": 0,
      "orientation": "horizontal",
      "style": "IPY_MODEL_4a9f747ec5284e5d94f87eba8013ead0",
      "value": 570
     }
    },
    "258ad71667e843caa3ef933bec063b45": {
     "model_module": "@jupyter-widgets/controls",
     "model_name": "HTMLModel",
     "model_module_version": "1.5.0",
     "state": {
      "_dom_classes": [],
      "_model_module": "@jupyter-widgets/controls",
      "_model_module_version": "1.5.0",
      "_model_name": "HTMLModel",
      "_view_count": null,
      "_view_module": "@jupyter-widgets/controls",
      "_view_module_version": "1.5.0",
      "_view_name": "HTMLView",
      "description": "",
      "description_tooltip": null,
      "layout": "IPY_MODEL_0228af1f9d054f79a428a725a20fe239",
      "placeholder": "​",
      "style": "IPY_MODEL_948492e6d0da48cb973b99b3430aebea",
      "value": " 570/570 [00:00&lt;00:00, 46.7kB/s]"
     }
    },
    "1f686584fdf1443fa5e0463b38058eec": {
     "model_module": "@jupyter-widgets/base",
     "model_name": "LayoutModel",
     "model_module_version": "1.2.0",
     "state": {
      "_model_module": "@jupyter-widgets/base",
      "_model_module_version": "1.2.0",
      "_model_name": "LayoutModel",
      "_view_count": null,
      "_view_module": "@jupyter-widgets/base",
      "_view_module_version": "1.2.0",
      "_view_name": "LayoutView",
      "align_content": null,
      "align_items": null,
      "align_self": null,
      "border": null,
      "bottom": null,
      "display": null,
      "flex": null,
      "flex_flow": null,
      "grid_area": null,
      "grid_auto_columns": null,
      "grid_auto_flow": null,
      "grid_auto_rows": null,
      "grid_column": null,
      "grid_gap": null,
      "grid_row": null,
      "grid_template_areas": null,
      "grid_template_columns": null,
      "grid_template_rows": null,
      "height": null,
      "justify_content": null,
      "justify_items": null,
      "left": null,
      "margin": null,
      "max_height": null,
      "max_width": null,
      "min_height": null,
      "min_width": null,
      "object_fit": null,
      "object_position": null,
      "order": null,
      "overflow": null,
      "overflow_x": null,
      "overflow_y": null,
      "padding": null,
      "right": null,
      "top": null,
      "visibility": null,
      "width": null
     }
    },
    "5bb1f178fe764ebfa7618875ae70b589": {
     "model_module": "@jupyter-widgets/base",
     "model_name": "LayoutModel",
     "model_module_version": "1.2.0",
     "state": {
      "_model_module": "@jupyter-widgets/base",
      "_model_module_version": "1.2.0",
      "_model_name": "LayoutModel",
      "_view_count": null,
      "_view_module": "@jupyter-widgets/base",
      "_view_module_version": "1.2.0",
      "_view_name": "LayoutView",
      "align_content": null,
      "align_items": null,
      "align_self": null,
      "border": null,
      "bottom": null,
      "display": null,
      "flex": null,
      "flex_flow": null,
      "grid_area": null,
      "grid_auto_columns": null,
      "grid_auto_flow": null,
      "grid_auto_rows": null,
      "grid_column": null,
      "grid_gap": null,
      "grid_row": null,
      "grid_template_areas": null,
      "grid_template_columns": null,
      "grid_template_rows": null,
      "height": null,
      "justify_content": null,
      "justify_items": null,
      "left": null,
      "margin": null,
      "max_height": null,
      "max_width": null,
      "min_height": null,
      "min_width": null,
      "object_fit": null,
      "object_position": null,
      "order": null,
      "overflow": null,
      "overflow_x": null,
      "overflow_y": null,
      "padding": null,
      "right": null,
      "top": null,
      "visibility": null,
      "width": null
     }
    },
    "8edde18468354e3fb5d7771c4ce928ac": {
     "model_module": "@jupyter-widgets/controls",
     "model_name": "DescriptionStyleModel",
     "model_module_version": "1.5.0",
     "state": {
      "_model_module": "@jupyter-widgets/controls",
      "_model_module_version": "1.5.0",
      "_model_name": "DescriptionStyleModel",
      "_view_count": null,
      "_view_module": "@jupyter-widgets/base",
      "_view_module_version": "1.2.0",
      "_view_name": "StyleView",
      "description_width": ""
     }
    },
    "8ed7d575f17a48ff91495d51ca5888b3": {
     "model_module": "@jupyter-widgets/base",
     "model_name": "LayoutModel",
     "model_module_version": "1.2.0",
     "state": {
      "_model_module": "@jupyter-widgets/base",
      "_model_module_version": "1.2.0",
      "_model_name": "LayoutModel",
      "_view_count": null,
      "_view_module": "@jupyter-widgets/base",
      "_view_module_version": "1.2.0",
      "_view_name": "LayoutView",
      "align_content": null,
      "align_items": null,
      "align_self": null,
      "border": null,
      "bottom": null,
      "display": null,
      "flex": null,
      "flex_flow": null,
      "grid_area": null,
      "grid_auto_columns": null,
      "grid_auto_flow": null,
      "grid_auto_rows": null,
      "grid_column": null,
      "grid_gap": null,
      "grid_row": null,
      "grid_template_areas": null,
      "grid_template_columns": null,
      "grid_template_rows": null,
      "height": null,
      "justify_content": null,
      "justify_items": null,
      "left": null,
      "margin": null,
      "max_height": null,
      "max_width": null,
      "min_height": null,
      "min_width": null,
      "object_fit": null,
      "object_position": null,
      "order": null,
      "overflow": null,
      "overflow_x": null,
      "overflow_y": null,
      "padding": null,
      "right": null,
      "top": null,
      "visibility": null,
      "width": null
     }
    },
    "4a9f747ec5284e5d94f87eba8013ead0": {
     "model_module": "@jupyter-widgets/controls",
     "model_name": "ProgressStyleModel",
     "model_module_version": "1.5.0",
     "state": {
      "_model_module": "@jupyter-widgets/controls",
      "_model_module_version": "1.5.0",
      "_model_name": "ProgressStyleModel",
      "_view_count": null,
      "_view_module": "@jupyter-widgets/base",
      "_view_module_version": "1.2.0",
      "_view_name": "StyleView",
      "bar_color": null,
      "description_width": ""
     }
    },
    "0228af1f9d054f79a428a725a20fe239": {
     "model_module": "@jupyter-widgets/base",
     "model_name": "LayoutModel",
     "model_module_version": "1.2.0",
     "state": {
      "_model_module": "@jupyter-widgets/base",
      "_model_module_version": "1.2.0",
      "_model_name": "LayoutModel",
      "_view_count": null,
      "_view_module": "@jupyter-widgets/base",
      "_view_module_version": "1.2.0",
      "_view_name": "LayoutView",
      "align_content": null,
      "align_items": null,
      "align_self": null,
      "border": null,
      "bottom": null,
      "display": null,
      "flex": null,
      "flex_flow": null,
      "grid_area": null,
      "grid_auto_columns": null,
      "grid_auto_flow": null,
      "grid_auto_rows": null,
      "grid_column": null,
      "grid_gap": null,
      "grid_row": null,
      "grid_template_areas": null,
      "grid_template_columns": null,
      "grid_template_rows": null,
      "height": null,
      "justify_content": null,
      "justify_items": null,
      "left": null,
      "margin": null,
      "max_height": null,
      "max_width": null,
      "min_height": null,
      "min_width": null,
      "object_fit": null,
      "object_position": null,
      "order": null,
      "overflow": null,
      "overflow_x": null,
      "overflow_y": null,
      "padding": null,
      "right": null,
      "top": null,
      "visibility": null,
      "width": null
     }
    },
    "948492e6d0da48cb973b99b3430aebea": {
     "model_module": "@jupyter-widgets/controls",
     "model_name": "DescriptionStyleModel",
     "model_module_version": "1.5.0",
     "state": {
      "_model_module": "@jupyter-widgets/controls",
      "_model_module_version": "1.5.0",
      "_model_name": "DescriptionStyleModel",
      "_view_count": null,
      "_view_module": "@jupyter-widgets/base",
      "_view_module_version": "1.2.0",
      "_view_name": "StyleView",
      "description_width": ""
     }
    },
    "6b0731d4d0604ac1accb4610804a2291": {
     "model_module": "@jupyter-widgets/controls",
     "model_name": "HBoxModel",
     "model_module_version": "1.5.0",
     "state": {
      "_dom_classes": [],
      "_model_module": "@jupyter-widgets/controls",
      "_model_module_version": "1.5.0",
      "_model_name": "HBoxModel",
      "_view_count": null,
      "_view_module": "@jupyter-widgets/controls",
      "_view_module_version": "1.5.0",
      "_view_name": "HBoxView",
      "box_style": "",
      "children": [
       "IPY_MODEL_246d899219b041c5b180122051c3bc22",
       "IPY_MODEL_023a75bc30e545c4b5d43a00a12fd491",
       "IPY_MODEL_5df9c9204fce48929274e4b1918d1281"
      ],
      "layout": "IPY_MODEL_ae6d9840dd7048d4b463c834532b0261"
     }
    },
    "246d899219b041c5b180122051c3bc22": {
     "model_module": "@jupyter-widgets/controls",
     "model_name": "HTMLModel",
     "model_module_version": "1.5.0",
     "state": {
      "_dom_classes": [],
      "_model_module": "@jupyter-widgets/controls",
      "_model_module_version": "1.5.0",
      "_model_name": "HTMLModel",
      "_view_count": null,
      "_view_module": "@jupyter-widgets/controls",
      "_view_module_version": "1.5.0",
      "_view_name": "HTMLView",
      "description": "",
      "description_tooltip": null,
      "layout": "IPY_MODEL_e0f92e090db54915ab98bd017ffcf117",
      "placeholder": "​",
      "style": "IPY_MODEL_8601b3de7bf14724923a32f24aa2822d",
      "value": "Downloading pytorch_model.bin: 100%"
     }
    },
    "023a75bc30e545c4b5d43a00a12fd491": {
     "model_module": "@jupyter-widgets/controls",
     "model_name": "FloatProgressModel",
     "model_module_version": "1.5.0",
     "state": {
      "_dom_classes": [],
      "_model_module": "@jupyter-widgets/controls",
      "_model_module_version": "1.5.0",
      "_model_name": "FloatProgressModel",
      "_view_count": null,
      "_view_module": "@jupyter-widgets/controls",
      "_view_module_version": "1.5.0",
      "_view_name": "ProgressView",
      "bar_style": "success",
      "description": "",
      "description_tooltip": null,
      "layout": "IPY_MODEL_3425ee6f324f4accafc03a018a45281f",
      "max": 440473133,
      "min": 0,
      "orientation": "horizontal",
      "style": "IPY_MODEL_c5f0db6066354ae9b82c22cb799d5c6e",
      "value": 440473133
     }
    },
    "5df9c9204fce48929274e4b1918d1281": {
     "model_module": "@jupyter-widgets/controls",
     "model_name": "HTMLModel",
     "model_module_version": "1.5.0",
     "state": {
      "_dom_classes": [],
      "_model_module": "@jupyter-widgets/controls",
      "_model_module_version": "1.5.0",
      "_model_name": "HTMLModel",
      "_view_count": null,
      "_view_module": "@jupyter-widgets/controls",
      "_view_module_version": "1.5.0",
      "_view_name": "HTMLView",
      "description": "",
      "description_tooltip": null,
      "layout": "IPY_MODEL_35ba67e5f5aa48eea64b2450631ac7ed",
      "placeholder": "​",
      "style": "IPY_MODEL_d0315b21658542c194e2d616b73e25a9",
      "value": " 440M/440M [00:05&lt;00:00, 42.9MB/s]"
     }
    },
    "ae6d9840dd7048d4b463c834532b0261": {
     "model_module": "@jupyter-widgets/base",
     "model_name": "LayoutModel",
     "model_module_version": "1.2.0",
     "state": {
      "_model_module": "@jupyter-widgets/base",
      "_model_module_version": "1.2.0",
      "_model_name": "LayoutModel",
      "_view_count": null,
      "_view_module": "@jupyter-widgets/base",
      "_view_module_version": "1.2.0",
      "_view_name": "LayoutView",
      "align_content": null,
      "align_items": null,
      "align_self": null,
      "border": null,
      "bottom": null,
      "display": null,
      "flex": null,
      "flex_flow": null,
      "grid_area": null,
      "grid_auto_columns": null,
      "grid_auto_flow": null,
      "grid_auto_rows": null,
      "grid_column": null,
      "grid_gap": null,
      "grid_row": null,
      "grid_template_areas": null,
      "grid_template_columns": null,
      "grid_template_rows": null,
      "height": null,
      "justify_content": null,
      "justify_items": null,
      "left": null,
      "margin": null,
      "max_height": null,
      "max_width": null,
      "min_height": null,
      "min_width": null,
      "object_fit": null,
      "object_position": null,
      "order": null,
      "overflow": null,
      "overflow_x": null,
      "overflow_y": null,
      "padding": null,
      "right": null,
      "top": null,
      "visibility": null,
      "width": null
     }
    },
    "e0f92e090db54915ab98bd017ffcf117": {
     "model_module": "@jupyter-widgets/base",
     "model_name": "LayoutModel",
     "model_module_version": "1.2.0",
     "state": {
      "_model_module": "@jupyter-widgets/base",
      "_model_module_version": "1.2.0",
      "_model_name": "LayoutModel",
      "_view_count": null,
      "_view_module": "@jupyter-widgets/base",
      "_view_module_version": "1.2.0",
      "_view_name": "LayoutView",
      "align_content": null,
      "align_items": null,
      "align_self": null,
      "border": null,
      "bottom": null,
      "display": null,
      "flex": null,
      "flex_flow": null,
      "grid_area": null,
      "grid_auto_columns": null,
      "grid_auto_flow": null,
      "grid_auto_rows": null,
      "grid_column": null,
      "grid_gap": null,
      "grid_row": null,
      "grid_template_areas": null,
      "grid_template_columns": null,
      "grid_template_rows": null,
      "height": null,
      "justify_content": null,
      "justify_items": null,
      "left": null,
      "margin": null,
      "max_height": null,
      "max_width": null,
      "min_height": null,
      "min_width": null,
      "object_fit": null,
      "object_position": null,
      "order": null,
      "overflow": null,
      "overflow_x": null,
      "overflow_y": null,
      "padding": null,
      "right": null,
      "top": null,
      "visibility": null,
      "width": null
     }
    },
    "8601b3de7bf14724923a32f24aa2822d": {
     "model_module": "@jupyter-widgets/controls",
     "model_name": "DescriptionStyleModel",
     "model_module_version": "1.5.0",
     "state": {
      "_model_module": "@jupyter-widgets/controls",
      "_model_module_version": "1.5.0",
      "_model_name": "DescriptionStyleModel",
      "_view_count": null,
      "_view_module": "@jupyter-widgets/base",
      "_view_module_version": "1.2.0",
      "_view_name": "StyleView",
      "description_width": ""
     }
    },
    "3425ee6f324f4accafc03a018a45281f": {
     "model_module": "@jupyter-widgets/base",
     "model_name": "LayoutModel",
     "model_module_version": "1.2.0",
     "state": {
      "_model_module": "@jupyter-widgets/base",
      "_model_module_version": "1.2.0",
      "_model_name": "LayoutModel",
      "_view_count": null,
      "_view_module": "@jupyter-widgets/base",
      "_view_module_version": "1.2.0",
      "_view_name": "LayoutView",
      "align_content": null,
      "align_items": null,
      "align_self": null,
      "border": null,
      "bottom": null,
      "display": null,
      "flex": null,
      "flex_flow": null,
      "grid_area": null,
      "grid_auto_columns": null,
      "grid_auto_flow": null,
      "grid_auto_rows": null,
      "grid_column": null,
      "grid_gap": null,
      "grid_row": null,
      "grid_template_areas": null,
      "grid_template_columns": null,
      "grid_template_rows": null,
      "height": null,
      "justify_content": null,
      "justify_items": null,
      "left": null,
      "margin": null,
      "max_height": null,
      "max_width": null,
      "min_height": null,
      "min_width": null,
      "object_fit": null,
      "object_position": null,
      "order": null,
      "overflow": null,
      "overflow_x": null,
      "overflow_y": null,
      "padding": null,
      "right": null,
      "top": null,
      "visibility": null,
      "width": null
     }
    },
    "c5f0db6066354ae9b82c22cb799d5c6e": {
     "model_module": "@jupyter-widgets/controls",
     "model_name": "ProgressStyleModel",
     "model_module_version": "1.5.0",
     "state": {
      "_model_module": "@jupyter-widgets/controls",
      "_model_module_version": "1.5.0",
      "_model_name": "ProgressStyleModel",
      "_view_count": null,
      "_view_module": "@jupyter-widgets/base",
      "_view_module_version": "1.2.0",
      "_view_name": "StyleView",
      "bar_color": null,
      "description_width": ""
     }
    },
    "35ba67e5f5aa48eea64b2450631ac7ed": {
     "model_module": "@jupyter-widgets/base",
     "model_name": "LayoutModel",
     "model_module_version": "1.2.0",
     "state": {
      "_model_module": "@jupyter-widgets/base",
      "_model_module_version": "1.2.0",
      "_model_name": "LayoutModel",
      "_view_count": null,
      "_view_module": "@jupyter-widgets/base",
      "_view_module_version": "1.2.0",
      "_view_name": "LayoutView",
      "align_content": null,
      "align_items": null,
      "align_self": null,
      "border": null,
      "bottom": null,
      "display": null,
      "flex": null,
      "flex_flow": null,
      "grid_area": null,
      "grid_auto_columns": null,
      "grid_auto_flow": null,
      "grid_auto_rows": null,
      "grid_column": null,
      "grid_gap": null,
      "grid_row": null,
      "grid_template_areas": null,
      "grid_template_columns": null,
      "grid_template_rows": null,
      "height": null,
      "justify_content": null,
      "justify_items": null,
      "left": null,
      "margin": null,
      "max_height": null,
      "max_width": null,
      "min_height": null,
      "min_width": null,
      "object_fit": null,
      "object_position": null,
      "order": null,
      "overflow": null,
      "overflow_x": null,
      "overflow_y": null,
      "padding": null,
      "right": null,
      "top": null,
      "visibility": null,
      "width": null
     }
    },
    "d0315b21658542c194e2d616b73e25a9": {
     "model_module": "@jupyter-widgets/controls",
     "model_name": "DescriptionStyleModel",
     "model_module_version": "1.5.0",
     "state": {
      "_model_module": "@jupyter-widgets/controls",
      "_model_module_version": "1.5.0",
      "_model_name": "DescriptionStyleModel",
      "_view_count": null,
      "_view_module": "@jupyter-widgets/base",
      "_view_module_version": "1.2.0",
      "_view_name": "StyleView",
      "description_width": ""
     }
    }
   }
  }
 },
 "nbformat": 4,
 "nbformat_minor": 0
}
